{
 "cells": [
  {
   "cell_type": "code",
   "execution_count": 5,
   "metadata": {
    "collapsed": false
   },
   "outputs": [
    {
     "name": "stdout",
     "output_type": "stream",
     "text": [
      "Jimmy: woof woof woof\n",
      "{'owner': 'Jack', 'tired': 6, 'hunger': 30, 'name': 'Jimmy', 'breed': 'Husky', 'thirst': 0, 'weight': 200}\n",
      "{'owner': 'Jack', 'tired': 6, 'hunger': 0, 'name': 'Jimmy', 'breed': 'Husky', 'thirst': 0, 'weight': 200}\n"
     ]
    }
   ],
   "source": [
    "# GROUPED FUNCTIONS\n",
    "\n",
    "# DOG\n",
    "\n",
    "#dog  = {'name': \"Fido\", 'weight': 200, 'breed': 'Husky', 'owner': 'Jack', 'hunger': 0, 'tired': 0, 'thirst': 0}\n",
    "\n",
    "def speak(dog):\n",
    "    print_str = dog['name'] + ': ' + 'woof woof woof'\n",
    "    print(print_str)\n",
    "\n",
    "def set_stats(dog, hunger,tiredness, thirst):\n",
    "    dog['hunger'] = hunger\n",
    "    dog['tired'] = tiredness\n",
    "    dog['thirst'] = thirst\n",
    "\n",
    "def  play_fetch(dog, time):\n",
    "    dog['hunger']+=time\n",
    "    dog['tired'] += time//5\n",
    "    #create a function that increases  hunger by 1 for every minute of fetch\n",
    "    #also increase tiredness by 1 for  every 5 minutes of fetch\n",
    "\n",
    "def feed(dog, cups_food):\n",
    "    dog['hunger'] -= cups_food*10\n",
    "    #create a function that reduces hunger by 10 for every cup of  dog food given\n",
    "dog  = {'name': \"Jimmy\", 'weight': 200, 'breed': 'Husky', 'owner': 'Jack', 'hunger': 0, 'tired': 0, 'thirst': 0}\n",
    "\n",
    "speak(dog)\n",
    "\n",
    "# set_stats(dog,10,25,0)\n",
    "# print(dog)\n",
    "play_fetch(dog,30)    \n",
    "print(dog)\n",
    "feed(dog,3)  \n",
    "print(dog)\n",
    "#All the functions we wrote  operate on this object, dog, which has different attributes like weight, thirst...etc."
   ]
  },
  {
   "cell_type": "code",
   "execution_count": 14,
   "metadata": {
    "collapsed": false
   },
   "outputs": [
    {
     "name": "stdout",
     "output_type": "stream",
     "text": [
      "WELCOME TO THE WORLD, DOG\n",
      "5 25\n",
      "5\n"
     ]
    }
   ],
   "source": [
    "class dog():\n",
    "    #dog  = {'name': \"Fido\", 'weight': 200, 'breed': 'Husky', 'owner': 'Jack', 'hunger': 0, 'tired': 0, 'thirst': 0}\n",
    "    \n",
    "    def __init__(self,name,age,weight,breed,owner):\n",
    "        self.name = name\n",
    "        self.age = age\n",
    "        self.weight = weight\n",
    "        self.breed = breed\n",
    "        self.owner = owner\n",
    "        print(\"WELCOME TO THE WORLD, DOG\")\n",
    "    \n",
    "    def speak(self):\n",
    "        print_str = self.name + ': ' + 'woof woof woof'\n",
    "        #dog['name']\n",
    "        print(print_str)\n",
    "    def set_stats(self, hunger,tired, thirst):\n",
    "        self.hunger = hunger\n",
    "        self.tired = tired\n",
    "        self.thirst = thirst\n",
    "\n",
    "    def  play_fetch(self, time):\n",
    "        self.hunger +=time\n",
    "        self.tired += time//5\n",
    "\n",
    "\n",
    "    def feed(self, cups_food):\n",
    "        self.hunger -= cups_food*10\n",
    "        \n",
    "Edgar_allen_pug = dog(\"Edgar\", 3, 10, \"Pug\", \"Chelsea\")\n",
    "Edgar_allen_pug.set_stats(0,0,0)\n",
    "\n",
    "# print(Edgar_allen_pug.name)\n",
    "# print(Edgar_allen_pug.owner)\n",
    "\n",
    "# Edgar_allen_pug.name = \"Barry\"\n",
    "\n",
    "# print(Edgar_allen_pug.name)\n",
    "\n",
    "Edgar_allen_pug.play_fetch(25)\n",
    "print(Edgar_allen_pug.tired,Edgar_allen_pug.hunger)\n",
    "\n",
    "Edgar_allen_pug.feed(2)\n",
    "print(Edgar_allen_pug.hunger)"
   ]
  },
  {
   "cell_type": "code",
   "execution_count": 0,
   "metadata": {
    "collapsed": false
   },
   "outputs": [
   ],
   "source": [
    "p = {\"Age\": 72, \"Name\": \"Carol\", \"Tiredness\": 0, \"Money\": 1000}\n",
    "\n",
    "def work(p):\n",
    "    p[\"Tiredness\"] += 40\n",
    "    p[\"Money\"]  += 200\n",
    "def payRent(p):\n",
    "    if p[\"Money\"]:\n",
    "        p[\"Money\"] -= 1200\n",
    "    else:\n",
    "        print(\"Shoot, you're out of money\")\n",
    "def sleep(p):\n",
    "    p[\"Tiredness\"] -= 75\n",
    "    print(\"Wake up, sunshine\")\n",
    "def namechange(p, new_name):\n",
    "    p[\"Name\"] = new_name\n",
    "\n"
   ]
  },
  {
   "cell_type": "code",
   "execution_count": 15,
   "metadata": {
    "collapsed": false
   },
   "outputs": [
    {
     "name": "stdout",
     "output_type": "stream",
     "text": [
      "Wake up, sunshine\n",
      "Wake up, sunshine\n",
      "Shoot, you're out of money\n"
     ]
    }
   ],
   "source": [
    "class person():\n",
    "    def __init__(self,age,name,tiredness,money):\n",
    "        self.age = age\n",
    "        self.name = name\n",
    "        self.tire =tiredness\n",
    "        self.cash = money\n",
    "    #work\n",
    "    def work(self):\n",
    "        self.tire += 40\n",
    "        self.cash  += 200\n",
    "    def payRent(self):\n",
    "        if self.cash > 1200:\n",
    "            self.cash -= 1200\n",
    "        else:\n",
    "            print(\"Shoot, you're out of money\")\n",
    "    def sleep(self):\n",
    "        self.tire -= 75\n",
    "        print(\"Wake up, sunshine\")\n",
    "        \n",
    "    def namechange(self, new_name):\n",
    "        self.name = new_name\n",
    "\n",
    "Chelsea = person(50,\"Chelsea\", 100, 200)\n",
    "\n",
    "Chelsea.work()\n",
    "Chelsea.sleep()\n",
    "Chelsea.sleep()\n",
    "Chelsea.payRent()"
   ]
  },
  {
   "cell_type": "code",
   "execution_count": 0,
   "metadata": {
    "collapsed": false
   },
   "outputs": [
   ],
   "source": [
   ]
  }
 ],
 "metadata": {
  "kernelspec": {
   "display_name": "Python 3 (Ubuntu Linux)",
   "language": "python",
   "name": "python3"
  },
  "language_info": {
   "codemirror_mode": {
    "name": "ipython",
    "version": 3
   },
   "file_extension": ".py",
   "mimetype": "text/x-python",
   "name": "python",
   "nbconvert_exporter": "python",
   "pygments_lexer": "ipython3",
   "version": "3.5.2"
  }
 },
 "nbformat": 4,
 "nbformat_minor": 0
}