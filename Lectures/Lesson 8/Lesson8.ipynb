{
 "cells": [
  {
   "cell_type": "code",
   "execution_count": 2,
   "metadata": {
    "collapsed": false
   },
   "outputs": [
    {
     "name": "stdout",
     "output_type": "stream",
     "text": [
      "<_io.TextIOWrapper name='star.txt' mode='r' encoding='UTF-8'>\n",
      "Twinkle Twinkle Little Star\n",
      "\n",
      "How I Wonder What You Are\n",
      "\n",
      "Up Above the World so High\n",
      "\n",
      "Like a Diamond in the Sky\n"
     ]
    }
   ],
   "source": [
    "# FILES\n",
    "\n",
    "f = open(\"star.txt\", 'r')\n",
    "\n",
    "print(f)\n",
    "\n",
    "for line in f:\n",
    "    print(line)\n",
    "\n",
    "f.close()"
   ]
  },
  {
   "cell_type": "code",
   "execution_count": 5,
   "metadata": {
    "collapsed": false
   },
   "outputs": [
   ],
   "source": [
    "out = open(\"test.txt\", 'a')\n",
    "\n",
    "out.write(\"Hello \")\n",
    "out.write(\"Goodbye\")\n",
    "\n",
    "out.close()"
   ]
  },
  {
   "cell_type": "code",
   "execution_count": 0,
   "metadata": {
    "collapsed": false
   },
   "outputs": [
   ],
   "source": [
   ]
  },
  {
   "cell_type": "code",
   "execution_count": 6,
   "metadata": {
    "collapsed": false
   },
   "outputs": [
    {
     "name": "stdout",
     "output_type": "stream",
     "text": [
      "['Twinkle Twinkle Little Star\\n', 'How I Wonder What You Are\\n', 'Up Above the World so High\\n', 'Like a Diamond in the Sky']\n"
     ]
    }
   ],
   "source": [
    "f = open(\"star.txt\", 'r')\n",
    "docList = []\n",
    "for line in f:\n",
    "    docList.append(line)\n",
    "    \n",
    "    \n",
    "print(docList)\n",
    "f.close()"
   ]
  },
  {
   "cell_type": "code",
   "execution_count": 7,
   "metadata": {
    "collapsed": false
   },
   "outputs": [
    {
     "name": "stdout",
     "output_type": "stream",
     "text": [
      "{'line 2': 'How I Wonder What You Are\\n', 'line 3': 'Up Above the World so High\\n', 'line 4': 'Like a Diamond in the Sky', 'line 1': 'Twinkle Twinkle Little Star\\n'}\n"
     ]
    }
   ],
   "source": [
    "f = open(\"star.txt\", 'r')\n",
    "d = {}\n",
    "i = 1\n",
    "for line in f:\n",
    "    keyString = \"line \" + str(i)\n",
    "    i += 1\n",
    "    d[keyString] = line\n",
    "print(d)"
   ]
  },
  {
   "cell_type": "code",
   "execution_count": 1,
   "metadata": {
    "collapsed": false
   },
   "outputs": [
    {
     "name": "stdout",
     "output_type": "stream",
     "text": [
      "{'Age': '17', 'Name': 'Carl', 'Class': 'Warrior'}\n",
      "{'Age': '13', 'Name': 'Jennifer', 'Class': 'Mage'}\n",
      "{'Age': '18', 'Name': 'Billy', 'Class': 'Rogue'}\n"
     ]
    }
   ],
   "source": [
    "import csv\n",
    "\n",
    "f = open(\"name.csv\", 'r')\n",
    "\n",
    "reader = csv.DictReader(f)\n",
    "\n",
    "for l  in reader:\n",
    "    print(l)\n",
    "# charD = {}\n",
    "\n",
    "# for line in reader:\n",
    "#      charD[line[\"Name\"]] = line\n",
    "\n",
    "# print(charD)\n"
   ]
  },
  {
   "cell_type": "code",
   "execution_count": 0,
   "metadata": {
    "collapsed": false
   },
   "outputs": [
   ],
   "source": [
    "# DEFAULT ARGUMENTS AND MORE ON NAMESPACES"
   ]
  },
  {
   "cell_type": "code",
   "execution_count": 11,
   "metadata": {
    "collapsed": false
   },
   "outputs": [
    {
     "name": "stdout",
     "output_type": "stream",
     "text": [
      "4\n"
     ]
    }
   ],
   "source": [
    "def a_counter(st):\n",
    "    c = 0\n",
    "    for char in st:\n",
    "        if char == 'a' or char == 'A':\n",
    "            c += 1\n",
    "    return c\n",
    "\n",
    "count_a = a_counter(\"Hello my name is Aardvark\")\n",
    "\n",
    "print(count_a)"
   ]
  },
  {
   "cell_type": "code",
   "execution_count": 12,
   "metadata": {
    "collapsed": false
   },
   "outputs": [
    {
     "name": "stdout",
     "output_type": "stream",
     "text": [
      "13\n"
     ]
    }
   ],
   "source": [
    "def a_counter(st = \"AaaAaAAaaAAaa\"):\n",
    "    c = 0\n",
    "    for char in st:\n",
    "        if char == 'a' or char == 'A':\n",
    "            c += 1\n",
    "    return c\n",
    "\n",
    "count_a = a_counter()\n",
    "\n",
    "print(count_a)"
   ]
  },
  {
   "cell_type": "code",
   "execution_count": 15,
   "metadata": {
    "collapsed": false
   },
   "outputs": [
    {
     "name": "stdout",
     "output_type": "stream",
     "text": [
      "False\n"
     ]
    }
   ],
   "source": [
    "def numsDivis(num1 = 2,num2 = 3,num3 = 5, num4 = 7,numtoCheck = 256):\n",
    "    '''check if numtoCheck is divisible by num1, num2, num3, and num4.'''\n",
    "    if numtoCheck%num1 == 0 and numtoCheck%num2 == 0 and numtoCheck%num3 == 0 and numtoCheck%num4 == 0:\n",
    "        return True\n",
    "    else:\n",
    "        return False\n",
    "\n",
    "# b = numsDivis(2,3,5,7,210)\n",
    "# print(b)\n",
    "\n",
    "# b = numsDivis()\n",
    "# print(b)\n",
    "\n",
    "b = numsDivis(numtoCheck = 1024)\n",
    "print(b)\n"
   ]
  },
  {
   "cell_type": "code",
   "execution_count": 19,
   "metadata": {
    "collapsed": false
   },
   "outputs": [
    {
     "ename": "TypeError",
     "evalue": "powMaker() missing 1 required positional argument: 'x'",
     "output_type": "error",
     "traceback": [
      "\u001b[0;31m---------------------------------------------------------------------------\u001b[0m",
      "\u001b[0;31mTypeError\u001b[0m                                 Traceback (most recent call last)",
      "\u001b[0;32m<ipython-input-19-469e8c557562>\u001b[0m in \u001b[0;36m<module>\u001b[0;34m()\u001b[0m\n\u001b[1;32m     11\u001b[0m \u001b[0;31m# print(p)\u001b[0m\u001b[0;34m\u001b[0m\u001b[0;34m\u001b[0m\u001b[0m\n\u001b[1;32m     12\u001b[0m \u001b[0;34m\u001b[0m\u001b[0m\n\u001b[0;32m---> 13\u001b[0;31m \u001b[0mp\u001b[0m \u001b[0;34m=\u001b[0m \u001b[0mpowMaker\u001b[0m\u001b[0;34m(\u001b[0m\u001b[0;34m)\u001b[0m\u001b[0;34m\u001b[0m\u001b[0m\n\u001b[0m\u001b[1;32m     14\u001b[0m \u001b[0mprint\u001b[0m\u001b[0;34m(\u001b[0m\u001b[0mp\u001b[0m\u001b[0;34m)\u001b[0m\u001b[0;34m\u001b[0m\u001b[0m\n",
      "\u001b[0;31mTypeError\u001b[0m: powMaker() missing 1 required positional argument: 'x'"
     ]
    }
   ],
   "source": [
    "def powMaker(x, y = 2):\n",
    "    return x ** y\n",
    "\n",
    "# p = powMaker(7,3)\n",
    "# print(p)\n",
    "\n",
    "# p = powMaker(7)\n",
    "# print(p)\n",
    "\n",
    "# p = powMaker(3)\n",
    "# print(p)\n",
    "\n",
    "p = powMaker()\n",
    "print(p)"
   ]
  },
  {
   "cell_type": "code",
   "execution_count": 23,
   "metadata": {
    "collapsed": false
   },
   "outputs": [
    {
     "name": "stdout",
     "output_type": "stream",
     "text": [
      "You did 3 damage to Carl\n",
      "{'name': 'Carl', 'age': 25, 'health': 197}\n"
     ]
    }
   ],
   "source": [
    "#NAMESPACES\n",
    "\n",
    "def attack(your_range = [2,6], enemy = {'name': 'Brad', 'age': 22, 'health': 100}):\n",
    "    import random\n",
    "    damage = random.randint(your_range[0],your_range[1])\n",
    "    print(\"You did \" + str(damage) + \" damage to \" + enemy['name'])\n",
    "    enemy['health'] -= damage\n",
    "\n",
    "e = {'name': 'Carl', 'age': 25, 'health': 200}\n",
    "\n",
    "attack(enemy = e)\n",
    "\n",
    "print(e)"
   ]
  },
  {
   "cell_type": "code",
   "execution_count": 22,
   "metadata": {
    "collapsed": false
   },
   "outputs": [
    {
     "name": "stdout",
     "output_type": "stream",
     "text": [
      "17\n"
     ]
    }
   ],
   "source": [
    "def adder(x,y):\n",
    "    c = x + y\n",
    "    return c\n",
    "    \n",
    "k = 9\n",
    "h = 8\n",
    "c = adder(k,h)\n",
    "print(c)"
   ]
  },
  {
   "cell_type": "code",
   "execution_count": 26,
   "metadata": {
    "collapsed": false
   },
   "outputs": [
    {
     "name": "stdout",
     "output_type": "stream",
     "text": [
      "You did 3 damage to Carl\n",
      "xp is now  18\n",
      "OUTSIDE FUNCTION----------------------------------\n",
      "{'name': 'Carl', 'age': 25, 'health': 197}\n",
      "outside, xp is 18\n"
     ]
    }
   ],
   "source": [
    "def attack(your_range = [2,6], enemy = {'name': 'Brad', 'age': 22, 'health': 100}, xp = 10):\n",
    "    import random\n",
    "    damage = random.randint(your_range[0],your_range[1])\n",
    "    print(\"You did \" + str(damage) + \" damage to \" + enemy['name'])\n",
    "    enemy['health'] -= damage\n",
    "    xp = xp  + 1\n",
    "    print(\"xp is now \", xp)\n",
    "    return xp\n",
    "\n",
    "e = {'name': 'Carl', 'age': 25, 'health': 200}\n",
    "x = 17\n",
    "\n",
    "#attack(enemy = e, xp = x)\n",
    "x = attack(enemy = e, xp = x)\n",
    "\n",
    "print(\"OUTSIDE FUNCTION----------------------------------\")\n",
    "print(e)\n",
    "print(\"outside, xp is\", x)"
   ]
  },
  {
   "cell_type": "code",
   "execution_count": 27,
   "metadata": {
    "collapsed": false
   },
   "outputs": [
    {
     "name": "stdout",
     "output_type": "stream",
     "text": [
      "['apples', 'bananas', 'milk', 'bread']\n",
      "OUTSIDE FUNCTION----------------------------------\n",
      "['apples', 'bananas', 'milk', 'bread']\n"
     ]
    }
   ],
   "source": [
    "def listAdd(L, LtoAdd):\n",
    "    for i in LtoAdd:\n",
    "        L.append(i)\n",
    "    print(L)\n",
    "\n",
    "l = []\n",
    "l2A = [\"apples\", \"bananas\", \"milk\", \"bread\"]\n",
    "\n",
    "listAdd(l,l2A)\n",
    "print(\"OUTSIDE FUNCTION----------------------------------\")\n",
    "print(l)"
   ]
  },
  {
   "cell_type": "code",
   "execution_count": 28,
   "metadata": {
    "collapsed": false
   },
   "outputs": [
    {
     "name": "stdout",
     "output_type": "stream",
     "text": [
      "['apples', 'bananas', 'milk', 'bread']\n",
      "OUTSIDE FUNCTION----------------------------------\n",
      "[]\n"
     ]
    }
   ],
   "source": [
    "def listAdd(L, LtoAdd):\n",
    "    for i in LtoAdd:\n",
    "        L = L + [i]\n",
    "    print(L)\n",
    "\n",
    "l = []\n",
    "l2A = [\"apples\", \"bananas\", \"milk\", \"bread\"]\n",
    "\n",
    "listAdd(l,l2A)\n",
    "print(\"OUTSIDE FUNCTION----------------------------------\")\n",
    "print(l)"
   ]
  },
  {
   "cell_type": "code",
   "execution_count": 29,
   "metadata": {
    "cocalc": {
     "outputs": {
      "0": {
       "name": "input",
       "opts": {
        "password": false,
        "prompt": "do you want lettuce? Y/N"
       },
       "output_type": "stream",
       "value": "Y"
      },
      "1": {
       "name": "input",
       "opts": {
        "password": false,
        "prompt": "do you want beans? Y/N"
       },
       "output_type": "stream",
       "value": "N"
      },
      "2": {
       "name": "input",
       "opts": {
        "password": false,
        "prompt": "do you want rice? Y/N"
       },
       "output_type": "stream",
       "value": "Y"
      },
      "3": {
       "name": "input",
       "opts": {
        "password": false,
        "prompt": "do you want guacamole? Y/N"
       },
       "output_type": "stream",
       "value": "Y"
      }
     }
    },
    "collapsed": false
   },
   "outputs": [
    {
     "name": "stdout",
     "output_type": "stream",
     "text": "do you want lettuce? Y/N Y"
    },
    {
     "name": "stdout",
     "output_type": "stream",
     "text": "do you want beans? Y/N N"
    },
    {
     "name": "stdout",
     "output_type": "stream",
     "text": "do you want rice? Y/N Y"
    },
    {
     "name": "stdout",
     "output_type": "stream",
     "text": "do you want guacamole? Y/N Y"
    },
    {
     "name": "stdout",
     "output_type": "stream",
     "text": [
      "Your burrito contains: \n",
      "beef\n",
      "lettuce\n",
      "rice\n",
      "guac\n"
     ]
    }
   ],
   "source": [
    "# Write a function that takes in 1 argument, a string called meat, and asks the user if they want cheese, lettuce, beans, rice, and guacamole. For  every item they want, append to a list called order. print out a string describing their order.\n",
    "\n",
    "def chipotle(meat = \"chicken\"):\n",
    "    order = []\n",
    "    order.append(meat)\n",
    "    lett = input(\"do you want lettuce? Y/N\")\n",
    "    if lett == \"Y\":\n",
    "        order.append(\"lettuce\")\n",
    "    bean = input(\"do you want beans? Y/N\")\n",
    "    if bean == \"Y\":\n",
    "        order.append(\"beans\")\n",
    "    rice = input(\"do you want rice? Y/N\")\n",
    "    if rice == \"Y\":\n",
    "        order.append(\"rice\")\n",
    "    guac = input(\"do you want guacamole? Y/N\")\n",
    "    if guac == \"Y\":\n",
    "        order.append(\"guac\")\n",
    "    print(\"Your burrito contains: \")\n",
    "    for item in order:\n",
    "        print(item)\n",
    "        \n",
    "chipotle(\"beef\")"
   ]
  },
  {
   "cell_type": "code",
   "execution_count": 0,
   "metadata": {
    "collapsed": false
   },
   "outputs": [
   ],
   "source": [
   ]
  }
 ],
 "metadata": {
  "kernelspec": {
   "display_name": "Python 3 (Ubuntu Linux)",
   "language": "python",
   "name": "python3"
  },
  "language_info": {
   "codemirror_mode": {
    "name": "ipython",
    "version": 3
   },
   "file_extension": ".py",
   "mimetype": "text/x-python",
   "name": "python",
   "nbconvert_exporter": "python",
   "pygments_lexer": "ipython3",
   "version": "3.5.2"
  }
 },
 "nbformat": 4,
 "nbformat_minor": 0
}