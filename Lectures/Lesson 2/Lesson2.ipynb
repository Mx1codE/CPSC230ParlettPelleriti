{
 "cells": [
  {
   "cell_type": "code",
   "execution_count": 0,
   "metadata": {
    "collapsed": false
   },
   "outputs": [
   ],
   "source": [
    "# SEQUENTIAL FLOW\n",
    "\n",
    "a = 2\n",
    "my_int = 4\n",
    "\n",
    "g = a + my_int\n",
    "\n",
    "print(a)\n",
    "print(g)"
   ]
  },
  {
   "cell_type": "code",
   "execution_count": 1,
   "metadata": {
    "collapsed": false
   },
   "outputs": [
    {
     "data": {
      "text/plain": [
       "True"
      ]
     },
     "execution_count": 1,
     "metadata": {
     },
     "output_type": "execute_result"
    }
   ],
   "source": [
    "#BOOLEANS\n",
    "\n",
    "1 == 1"
   ]
  },
  {
   "cell_type": "code",
   "execution_count": 2,
   "metadata": {
    "collapsed": false
   },
   "outputs": [
    {
     "data": {
      "text/plain": [
       "False"
      ]
     },
     "execution_count": 2,
     "metadata": {
     },
     "output_type": "execute_result"
    }
   ],
   "source": [
    "2 != 2"
   ]
  },
  {
   "cell_type": "code",
   "execution_count": 3,
   "metadata": {
    "collapsed": false
   },
   "outputs": [
    {
     "data": {
      "text/plain": [
       "True"
      ]
     },
     "execution_count": 3,
     "metadata": {
     },
     "output_type": "execute_result"
    }
   ],
   "source": [
    "3 != 4"
   ]
  },
  {
   "cell_type": "code",
   "execution_count": 4,
   "metadata": {
    "collapsed": false
   },
   "outputs": [
    {
     "data": {
      "text/plain": [
       "False"
      ]
     },
     "execution_count": 4,
     "metadata": {
     },
     "output_type": "execute_result"
    }
   ],
   "source": [
    "4 < 4"
   ]
  },
  {
   "cell_type": "code",
   "execution_count": 5,
   "metadata": {
    "collapsed": false
   },
   "outputs": [
    {
     "data": {
      "text/plain": [
       "True"
      ]
     },
     "execution_count": 5,
     "metadata": {
     },
     "output_type": "execute_result"
    }
   ],
   "source": [
    "4 <= 4"
   ]
  },
  {
   "cell_type": "code",
   "execution_count": 6,
   "metadata": {
    "collapsed": false
   },
   "outputs": [
    {
     "data": {
      "text/plain": [
       "True"
      ]
     },
     "execution_count": 6,
     "metadata": {
     },
     "output_type": "execute_result"
    }
   ],
   "source": [
    "True == 1"
   ]
  },
  {
   "cell_type": "code",
   "execution_count": 7,
   "metadata": {
    "collapsed": false
   },
   "outputs": [
    {
     "data": {
      "text/plain": [
       "True"
      ]
     },
     "execution_count": 7,
     "metadata": {
     },
     "output_type": "execute_result"
    }
   ],
   "source": [
    "False == 0"
   ]
  },
  {
   "cell_type": "code",
   "execution_count": 8,
   "metadata": {
    "collapsed": false
   },
   "outputs": [
    {
     "data": {
      "text/plain": [
       "False"
      ]
     },
     "execution_count": 8,
     "metadata": {
     },
     "output_type": "execute_result"
    }
   ],
   "source": [
    "bool_maker = 7\n",
    "\n",
    "bool_maker > 8"
   ]
  },
  {
   "cell_type": "code",
   "execution_count": 12,
   "metadata": {
    "collapsed": false
   },
   "outputs": [
    {
     "name": "stdout",
     "output_type": "stream",
     "text": [
      "I'll always print because I'm always True\n"
     ]
    }
   ],
   "source": [
    "#IF\n",
    "\n",
    "a = 3\n",
    "# if a == 2:\n",
    "#     print(\"a is two!!\")\n",
    "\n",
    "\n",
    "# if a == 3:\n",
    "#     print(\"a is actually 3.\")\n",
    "\n",
    "\n",
    "if True:\n",
    "    print(\"I'll always print because I'm always True\")"
   ]
  },
  {
   "cell_type": "code",
   "execution_count": 14,
   "metadata": {
    "collapsed": false
   },
   "outputs": [
    {
     "name": "stdout",
     "output_type": "stream",
     "text": [
      "I'm POSITIVE!!!\n",
      "We're still pretty low.\n",
      "4\n"
     ]
    }
   ],
   "source": [
    "## IF-ELSE\n",
    "\n",
    "if a < 1:\n",
    "    print(\"I'M not positive\")\n",
    "else:\n",
    "    print(\"I'm POSITIVE!!!\")\n",
    "\n",
    "#---------------------------------------------------------------------------\n",
    "them = 1\n",
    "if them >= 2:\n",
    "    print(\"Well this is getting out of hand, there's more than two of them.\")\n",
    "else:\n",
    "    print(\"We're still pretty low.\")\n",
    "print(2+2)\n",
    "\n",
    "#---------------------------------------------------------------------------\n",
    "# them = 1\n",
    "# if them >= 2:\n",
    "#     print(\"Well this is getting out of hand, there's more than two of them.\")\n",
    "# else:\n",
    "#     print(\"We're still pretty low.\")\n",
    "# print(2+2)\n",
    "\n",
    "# #---------------------------------------------------------------------------\n",
    "# them = 2\n",
    "# if them >= 2:\n",
    "#     print(\"Well this is getting out of hand, there's more than two of them.\")\n",
    "# else:\n",
    "#     print(\"We're still pretty low.\")\n",
    "# print(2+2)\n",
    "#---------------------------------------------------------------------------"
   ]
  },
  {
   "cell_type": "code",
   "execution_count": 15,
   "metadata": {
    "collapsed": false
   },
   "outputs": [
    {
     "name": "stdout",
     "output_type": "stream",
     "text": [
      "0\n",
      "1\n",
      "2\n",
      "3\n",
      "4\n",
      "5\n",
      "6\n",
      "7\n",
      "8\n",
      "9\n",
      "The current value is  10\n"
     ]
    }
   ],
   "source": [
    "# WHILE\n",
    "\n",
    "count_er = 0\n",
    "\n",
    "while count_er < 10:\n",
    "    print(count_er)\n",
    "    count_er += 1 #note the shortcut!\n",
    "print(\"The current value is \", count_er)"
   ]
  },
  {
   "cell_type": "code",
   "execution_count": 16,
   "metadata": {
    "collapsed": false
   },
   "outputs": [
   ],
   "source": [
    "my_var = 0\n",
    "\n",
    "while my_var > 5:\n",
    "    print(\"Hello\")\n",
    "\n",
    "#when does this run?"
   ]
  },
  {
   "cell_type": "code",
   "execution_count": 17,
   "metadata": {
    "collapsed": false,
    "scrolled": true
   },
   "outputs": [
    {
     "name": "stderr",
     "output_type": "stream",
     "text": [
      "WARNING: Some output was deleted.\n"
     ]
    }
   ],
   "source": [
    "while my_var == 0:\n",
    "    print(\"still going...\")\n",
    "    my_var += 1\n",
    "\n",
    "\n",
    "#when does this run??"
   ]
  },
  {
   "cell_type": "code",
   "execution_count": 18,
   "metadata": {
    "collapsed": false
   },
   "outputs": [
    {
     "name": "stdout",
     "output_type": "stream",
     "text": [
      "A\n",
      " \n",
      "s\n",
      "u\n",
      "p\n",
      "r\n",
      "i\n",
      "s\n",
      "e\n",
      " \n",
      "t\n",
      "o\n",
      " \n",
      "b\n",
      "e\n",
      " \n",
      "s\n",
      "u\n",
      "r\n",
      "e\n",
      ",\n",
      " \n",
      "b\n",
      "u\n",
      "t\n",
      " \n",
      "a\n",
      " \n",
      "w\n",
      "e\n",
      "l\n",
      "c\n",
      "o\n",
      "m\n",
      "e\n",
      " \n",
      "o\n",
      "n\n",
      "e\n"
     ]
    }
   ],
   "source": [
    "# FOR\n",
    "\n",
    "str_loop = \"A suprise to be sure, but a welcome one\"\n",
    "\n",
    "for char in str_loop:\n",
    "    print(char)"
   ]
  },
  {
   "cell_type": "code",
   "execution_count": 19,
   "metadata": {
    "collapsed": false
   },
   "outputs": [
    {
     "name": "stdout",
     "output_type": "stream",
     "text": [
      "39\n"
     ]
    },
    {
     "data": {
      "text/plain": [
       "39"
      ]
     },
     "execution_count": 19,
     "metadata": {
     },
     "output_type": "execute_result"
    }
   ],
   "source": [
    "a = 0\n",
    "for it in str_loop:\n",
    "    a += 1\n",
    "\n",
    "print(a)\n",
    "len(str_loop)"
   ]
  },
  {
   "cell_type": "code",
   "execution_count": 20,
   "metadata": {
    "collapsed": false
   },
   "outputs": [
    {
     "name": "stdout",
     "output_type": "stream",
     "text": [
      "I have a bad feeling about this\n"
     ]
    }
   ],
   "source": [
    "my_string = \"I have a bad feeling about this\"\n",
    "new_str = \"\"\n",
    "for letter in my_string:\n",
    "    new_str  += letter\n",
    "    #new_str = new_str + letter\n",
    "\n",
    "\n",
    "print(new_str)"
   ]
  },
  {
   "cell_type": "code",
   "execution_count": 25,
   "metadata": {
    "collapsed": false
   },
   "outputs": [
    {
     "name": "stdout",
     "output_type": "stream",
     "text": [
      "a 140479290224880\n",
      "\n",
      "\n",
      "b 140479290224736\n",
      "\n",
      "\n",
      "c 140479290224880\n",
      "\n",
      "\n",
      "c 140479290224832\n",
      "\n",
      "a is now 2.5\n"
     ]
    }
   ],
   "source": [
    "# EQUALITY\n",
    "\n",
    "# x = 2.4\n",
    "# y = x\n",
    "\n",
    "# x is y\n",
    "\n",
    "a = 2.5\n",
    "print( \"a\", id(a) )\n",
    "\n",
    "print(\"\\n\")\n",
    "\n",
    "b = 2.5\n",
    "print( \"b\", id(b) )\n",
    "\n",
    "print(\"\\n\")\n",
    "\n",
    "c = a\n",
    "print( \"c\", id(c) )\n",
    "\n",
    "\n",
    "print(\"\\n\")\n",
    "\n",
    "\n",
    "c += 1\n",
    "print( \"c\" ,id(c) )\n",
    "\n",
    "\n",
    "print( \"\\na is now\", a )\n"
   ]
  },
  {
   "cell_type": "code",
   "execution_count": 26,
   "metadata": {
    "collapsed": false
   },
   "outputs": [
    {
     "data": {
      "text/plain": [
       "5.551115123125783e-17"
      ]
     },
     "execution_count": 26,
     "metadata": {
     },
     "output_type": "execute_result"
    }
   ],
   "source": [
    "0.1 + 0.1 + 0.1 - 0.3"
   ]
  },
  {
   "cell_type": "code",
   "execution_count": 27,
   "metadata": {
    "collapsed": false
   },
   "outputs": [
    {
     "data": {
      "text/plain": [
       "False"
      ]
     },
     "execution_count": 27,
     "metadata": {
     },
     "output_type": "execute_result"
    }
   ],
   "source": [
    "u = 11111113\n",
    "v = -11111111\n",
    "w  = 7.51111111\n",
    "x = (u + v) + w\n",
    "y = u + (v + w)\n",
    "x == y"
   ]
  },
  {
   "cell_type": "code",
   "execution_count": 28,
   "metadata": {
    "collapsed": false
   },
   "outputs": [
    {
     "data": {
      "text/plain": [
       "True"
      ]
     },
     "execution_count": 28,
     "metadata": {
     },
     "output_type": "execute_result"
    }
   ],
   "source": [
    "abs(x-y) < 0.00000001"
   ]
  },
  {
   "cell_type": "code",
   "execution_count": 32,
   "metadata": {
    "collapsed": false
   },
   "outputs": [
    {
     "name": "stdout",
     "output_type": "stream",
     "text": [
      "not a very remarkable number\n"
     ]
    }
   ],
   "source": [
    "# IF ELIF ELSE\n",
    "\n",
    "# a = 16\n",
    "a = 5\n",
    "\n",
    "\n",
    "if a%2 == 0:\n",
    "    print(\"a is even\")\n",
    "elif a%3 == 0:\n",
    "    print(\"a is not even, but it is divisible by 3\")\n",
    "else:\n",
    "    print(\"not a very remarkable number\")"
   ]
  },
  {
   "cell_type": "code",
   "execution_count": 33,
   "metadata": {
    "collapsed": false
   },
   "outputs": [
    {
     "name": "stdout",
     "output_type": "stream",
     "text": [
      "0\n",
      "1\n",
      "2\n",
      "3\n",
      "4\n",
      "5\n",
      "6\n",
      "7\n",
      "8\n",
      "whew, done and i is 9\n"
     ]
    }
   ],
   "source": [
    "### WHILE ELSE\n",
    "\n",
    "i = 0\n",
    "\n",
    "while i < 9:\n",
    "    print(i)\n",
    "    i += 1\n",
    "else:\n",
    "    print(\"whew, done and i is \" + str(i))\n"
   ]
  },
  {
   "cell_type": "code",
   "execution_count": 34,
   "metadata": {
    "collapsed": false
   },
   "outputs": [
    {
     "name": "stdout",
     "output_type": "stream",
     "text": [
      "I'VE FOUND A NUMBER DIVISIBLE BY 2 and 17: 34\n"
     ]
    }
   ],
   "source": [
    "# BREAK\n",
    "\n",
    "my_num = 1\n",
    "\n",
    "while my_num < 100:\n",
    "    if my_num%2 == 0 and my_num%17 == 0:\n",
    "        print(\"I'VE FOUND A NUMBER DIVISIBLE BY 2 and 17: \" + str(my_num))\n",
    "        break\n",
    "    my_num += 1\n"
   ]
  },
  {
   "cell_type": "code",
   "execution_count": 35,
   "metadata": {
    "collapsed": false
   },
   "outputs": [
    {
     "name": "stdout",
     "output_type": "stream",
     "text": [
      "I haven't found an I yet...but I'll keep looking.\n",
      "I haven't found an I yet...but I'll keep looking.\n",
      "I haven't found an I yet...but I'll keep looking.\n",
      "I haven't found an I yet...but I'll keep looking.\n",
      "I haven't found an I yet...but I'll keep looking.\n",
      "I haven't found an I yet...but I'll keep looking.\n",
      "I!\n"
     ]
    }
   ],
   "source": [
    "for lett in \"the quick brown fox\":\n",
    "    if lett == \"i\":\n",
    "        print(\"I!\")\n",
    "        break\n",
    "    print(\"I haven't found an I yet...but I'll keep looking.\")"
   ]
  },
  {
   "cell_type": "code",
   "execution_count": 36,
   "metadata": {
    "collapsed": false
   },
   "outputs": [
    {
     "name": "stdout",
     "output_type": "stream",
     "text": [
      "1\n",
      "3\n",
      "5\n",
      "7\n",
      "9\n",
      "11\n",
      "13\n",
      "15\n",
      "17\n",
      "19\n",
      "21\n",
      "23\n",
      "25\n",
      "27\n",
      "29\n",
      "31\n",
      "33\n",
      "35\n",
      "37\n",
      "39\n"
     ]
    }
   ],
   "source": [
    "# CONTINUE\n",
    "\n",
    "my_new_num = 0\n",
    "\n",
    "while my_new_num < 40:\n",
    "    if my_new_num%2 == 0:\n",
    "        my_new_num += 1\n",
    "        continue\n",
    "    print(my_new_num)\n",
    "    my_new_num += 1"
   ]
  },
  {
   "cell_type": "code",
   "execution_count": 37,
   "metadata": {
    "collapsed": false
   },
   "outputs": [
    {
     "name": "stdout",
     "output_type": "stream",
     "text": [
      "T\n",
      "h\n",
      "i\n",
      "s\n",
      " \n",
      "i\n",
      "s\n",
      " \n",
      "a\n",
      "n\n",
      " \n",
      "x\n",
      " \n",
      "p\n",
      "a\n",
      "r\n",
      "r\n",
      "o\n",
      "t\n"
     ]
    }
   ],
   "source": [
    "for it in \"This is an ex parrot\":\n",
    "    if it == \"e\":\n",
    "        continue\n",
    "    print(it)"
   ]
  },
  {
   "cell_type": "code",
   "execution_count": 0,
   "metadata": {
    "collapsed": false
   },
   "outputs": [
   ],
   "source": [
   ]
  }
 ],
 "metadata": {
  "kernelspec": {
   "display_name": "Python 3 (Ubuntu Linux)",
   "language": "python",
   "name": "python3"
  },
  "language_info": {
   "codemirror_mode": {
    "name": "ipython",
    "version": 3
   },
   "file_extension": ".py",
   "mimetype": "text/x-python",
   "name": "python",
   "nbconvert_exporter": "python",
   "pygments_lexer": "ipython3",
   "version": "3.5.2"
  }
 },
 "nbformat": 4,
 "nbformat_minor": 0
}