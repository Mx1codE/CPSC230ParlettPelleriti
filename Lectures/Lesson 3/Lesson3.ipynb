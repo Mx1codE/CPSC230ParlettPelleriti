{
 "cells": [
  {
   "cell_type": "code",
   "execution_count": 0,
   "metadata": {
    "collapsed": false
   },
   "outputs": [
   ],
   "source": [
    "# TRIPLE STRING QUOTES\n",
    "lumberjack = '''I'm a lumberjack and I'm OK\n",
    "I sleep all night and I work all day.\n",
    "\n",
    "I cut down trees, I eat my lunch\n",
    "I go to the lavatory.\n",
    "On Wednesdays I go shopping and have buttered scones for tea '''\n",
    "\n",
    "print(lumberjack)\n",
    "\n",
    "'''\n",
    "this\n",
    "is\n",
    "a\n",
    "multiline\n",
    "comment\n",
    "'''"
   ]
  },
  {
   "cell_type": "code",
   "execution_count": 0,
   "metadata": {
    "collapsed": false
   },
   "outputs": [
   ],
   "source": [
    "# NONPRINTING CHARACTERS\n",
    "\n",
    "a_string = \"When this line ends, start a new  one\\n\"\n",
    "\n",
    "b_string = \"\\tLook at how indented I am!\"\n",
    "\n",
    "print(a_string, b_string)"
   ]
  },
  {
   "cell_type": "code",
   "execution_count": 0,
   "metadata": {
    "collapsed": false
   },
   "outputs": [
   ],
   "source": [
    "# STRINGS AS SEQUENCES\n",
    "\n",
    "new_string = \"All models are wrong, but some are useful.\"\n",
    "\n",
    "print(new_string[0])\n",
    "\n",
    "print(new_string[1])\n",
    "\n",
    "print(new_string[10])\n",
    "\n",
    "print(new_string[-1])"
   ]
  },
  {
   "cell_type": "code",
   "execution_count": 0,
   "metadata": {
    "collapsed": false
   },
   "outputs": [
   ],
   "source": [
    "# print(new_string[0:4])\n",
    "\n",
    "# print(new_string[0:4:1])\n",
    "\n",
    "# print(new_string[2:10:2])\n",
    "\n",
    "# print(new_string[:])\n",
    "\n",
    "# print(new_string[::-1])\n",
    "\n",
    "print(new_string[::-2])\n"
   ]
  },
  {
   "cell_type": "code",
   "execution_count": 0,
   "metadata": {
    "collapsed": false
   },
   "outputs": [
   ],
   "source": [
    "# ITERATION\n",
    "\n",
    "i = 0\n",
    "\n",
    "for lett in new_string:\n",
    "    if lett in 'aeiou':\n",
    "        print(\"VOWEL FOUND\")\n",
    "    else:\n",
    "        i += 1\n",
    "        print(\"consonant # \" + str(i))"
   ]
  },
  {
   "cell_type": "code",
   "execution_count": 0,
   "metadata": {
    "collapsed": false
   },
   "outputs": [
   ],
   "source": [
    "for lett in new_string:\n",
    "    print(lett < 'm')"
   ]
  },
  {
   "cell_type": "code",
   "execution_count": 0,
   "metadata": {
    "collapsed": false
   },
   "outputs": [
   ],
   "source": [
    "for l in new_string:\n",
    "    print(\"*\" + l  + \"*\")"
   ]
  },
  {
   "cell_type": "code",
   "execution_count": 0,
   "metadata": {
    "collapsed": false
   },
   "outputs": [
   ],
   "source": [
    "# COMPARING STRINGS\n",
    "\n",
    "'a' < 'b'\n",
    "'c' < 'q'"
   ]
  },
  {
   "cell_type": "code",
   "execution_count": 0,
   "metadata": {
    "collapsed": false
   },
   "outputs": [
   ],
   "source": [
    "'A' < 'a'"
   ]
  },
  {
   "cell_type": "code",
   "execution_count": 0,
   "metadata": {
    "collapsed": false
   },
   "outputs": [
   ],
   "source": [
    "'1' < 'A'"
   ]
  },
  {
   "cell_type": "code",
   "execution_count": 0,
   "metadata": {
    "collapsed": false
   },
   "outputs": [
   ],
   "source": [
    "'garden' < 'gardens'"
   ]
  },
  {
   "cell_type": "code",
   "execution_count": 0,
   "metadata": {
    "collapsed": false
   },
   "outputs": [
   ],
   "source": [
   ]
  },
  {
   "cell_type": "code",
   "execution_count": 0,
   "metadata": {
    "collapsed": false
   },
   "outputs": [
   ],
   "source": [
    "'couch' > 'coach'"
   ]
  },
  {
   "cell_type": "code",
   "execution_count": 0,
   "metadata": {
    "collapsed": false
   },
   "outputs": [
   ],
   "source": [
    "'bee' > 'apple'"
   ]
  },
  {
   "cell_type": "code",
   "execution_count": 1,
   "metadata": {
    "collapsed": false
   },
   "outputs": [
    {
     "data": {
      "text/plain": [
       "True"
      ]
     },
     "execution_count": 1,
     "metadata": {
     },
     "output_type": "execute_result"
    }
   ],
   "source": [
    "# IN\n",
    "\n",
    "a = 'apple'\n",
    "\n",
    "'a' in a #boolean"
   ]
  },
  {
   "cell_type": "code",
   "execution_count": 2,
   "metadata": {
    "collapsed": false
   },
   "outputs": [
    {
     "name": "stdout",
     "output_type": "stream",
     "text": [
      "VOWELS\n",
      "VOWELS\n"
     ]
    }
   ],
   "source": [
    "for char in a:\n",
    "    if char in 'aeiou':\n",
    "        print(\"VOWELS\")"
   ]
  },
  {
   "cell_type": "code",
   "execution_count": 3,
   "metadata": {
    "collapsed": false
   },
   "outputs": [
    {
     "name": "stdout",
     "output_type": "stream",
     "text": [
      "LOWERCASE\n",
      "LOWERCASE\n",
      "LOWERCASE\n",
      "LOWERCASE\n",
      "LOWERCASE\n",
      "LOWERCASE\n",
      "LOWERCASE\n",
      "LOWERCASE\n",
      "LOWERCASE\n",
      "LOWERCASE\n",
      "LOWERCASE\n"
     ]
    }
   ],
   "source": [
    "alpha = 'abcdefghijklmnopqrstuvwxyz'\n",
    "\n",
    "sentence = \"It's not Unusual\"\n",
    "\n",
    "for lett in sentence:\n",
    "    if  lett in alpha:\n",
    "        print(\"LOWERCASE\")"
   ]
  },
  {
   "cell_type": "code",
   "execution_count": 4,
   "metadata": {
    "collapsed": false
   },
   "outputs": [
    {
     "name": "stdout",
     "output_type": "stream",
     "text": [
      "still here | s\n",
      "still here | f\n",
      "still here | h\n",
      "still here | e\n",
      "I've stopped | &\n"
     ]
    }
   ],
   "source": [
    "jumble = \"sfhe&JeflOKWR*890efs#$df\"\n",
    "\n",
    "i = 0\n",
    "char = jumble[i]  #what letter will this be?\n",
    "\n",
    "while char in alpha:\n",
    "    print(\"still here\", \"|\", char)\n",
    "    i += 1\n",
    "    char = jumble[i]\n",
    "else:\n",
    "    print(\"I've stopped\", \"|\", char)"
   ]
  },
  {
   "cell_type": "code",
   "execution_count": 6,
   "metadata": {
    "collapsed": false
   },
   "outputs": [
   ],
   "source": [
    "# IMMUTABLE\n",
    "\n",
    "a = \"bacon\"\n",
    "\n",
    "a = \"pig\"\n",
    "\n",
    "# a[0] = \"P\"\n",
    "\n",
    "a = \"Pig\"\n",
    "\n",
    "#variables are containers  to hold objects"
   ]
  },
  {
   "cell_type": "code",
   "execution_count": 7,
   "metadata": {
    "collapsed": false
   },
   "outputs": [
    {
     "name": "stdout",
     "output_type": "stream",
     "text": [
      "GOODBYE\n",
      "goodbye\n"
     ]
    }
   ],
   "source": [
    "# STRING METHODS\n",
    "\n",
    "## dot notation\n",
    "\n",
    "# \"hello\".upper()\n",
    "\n",
    "k = \"goodBYE\"\n",
    "\n",
    "print(k.upper())\n",
    "\n",
    "print(k.lower())\n",
    "\n",
    "my_str = \"Planes, Trains, and Automobiles\"\n",
    "\n",
    "# lowcase = my_str.lower()\n",
    "\n",
    "# print(lowcase)\n",
    "\n",
    "\n"
   ]
  },
  {
   "cell_type": "code",
   "execution_count": 0,
   "metadata": {
    "collapsed": false
   },
   "outputs": [
   ],
   "source": [
    "upcase = my_str.upper()\n",
    "\n",
    "print(upcase)"
   ]
  },
  {
   "cell_type": "code",
   "execution_count": 8,
   "metadata": {
    "collapsed": false
   },
   "outputs": [
    {
     "name": "stdout",
     "output_type": "stream",
     "text": [
      "8 T\n"
     ]
    }
   ],
   "source": [
    "ind = my_str.find(\"T\")\n",
    "\n",
    "\n",
    "print(ind, my_str[ind])"
   ]
  },
  {
   "cell_type": "code",
   "execution_count": 11,
   "metadata": {
    "collapsed": false
   },
   "outputs": [
    {
     "name": "stdout",
     "output_type": "stream",
     "text": [
      "19\n"
     ]
    }
   ],
   "source": [
    "# CHAIN METHODS\n",
    "\n",
    "string = \"A lOt of RANdOm CasES\"\n",
    "\n",
    "print(string.upper().lower().find('e'))\n",
    "\n",
    "new = string.upper().lower().find('e')\n",
    "\n",
    "print(new)\n"
   ]
  },
  {
   "cell_type": "code",
   "execution_count": 12,
   "metadata": {
    "collapsed": false
   },
   "outputs": [
    {
     "data": {
      "text/plain": [
       "False"
      ]
     },
     "execution_count": 12,
     "metadata": {
     },
     "output_type": "execute_result"
    }
   ],
   "source": [
    "'the quick brown fox'.isalpha()"
   ]
  },
  {
   "cell_type": "code",
   "execution_count": 13,
   "metadata": {
    "collapsed": false
   },
   "outputs": [
    {
     "data": {
      "text/plain": [
       "True"
      ]
     },
     "execution_count": 13,
     "metadata": {
     },
     "output_type": "execute_result"
    }
   ],
   "source": [
    "'abc'.isalpha()"
   ]
  },
  {
   "cell_type": "code",
   "execution_count": 14,
   "metadata": {
    "collapsed": false
   },
   "outputs": [
    {
     "data": {
      "text/plain": [
       "True"
      ]
     },
     "execution_count": 14,
     "metadata": {
     },
     "output_type": "execute_result"
    }
   ],
   "source": [
    "'234'.isnumeric()"
   ]
  },
  {
   "cell_type": "code",
   "execution_count": 15,
   "metadata": {
    "collapsed": false
   },
   "outputs": [
    {
     "data": {
      "text/plain": [
       "False"
      ]
     },
     "execution_count": 15,
     "metadata": {
     },
     "output_type": "execute_result"
    }
   ],
   "source": [
    "'45.8'.isnumeric()"
   ]
  },
  {
   "cell_type": "code",
   "execution_count": 16,
   "metadata": {
    "collapsed": false
   },
   "outputs": [
    {
     "name": "stdout",
     "output_type": "stream",
     "text": [
      "       hellooo          \n",
      "hellooo\n"
     ]
    }
   ],
   "source": [
    "a = '       hellooo          '\n",
    "\n",
    "print(a)\n",
    "\n",
    "a = a.strip()\n",
    "\n",
    "print(a)"
   ]
  },
  {
   "cell_type": "code",
   "execution_count": 17,
   "metadata": {
    "collapsed": false
   },
   "outputs": [
    {
     "data": {
      "text/plain": [
       "True"
      ]
     },
     "execution_count": 17,
     "metadata": {
     },
     "output_type": "execute_result"
    }
   ],
   "source": [
    "\"T\".isupper()"
   ]
  },
  {
   "cell_type": "code",
   "execution_count": 18,
   "metadata": {
    "collapsed": false
   },
   "outputs": [
    {
     "data": {
      "text/plain": [
       "False"
      ]
     },
     "execution_count": 18,
     "metadata": {
     },
     "output_type": "execute_result"
    }
   ],
   "source": [
    "\"tURTLE\".isupper()"
   ]
  },
  {
   "cell_type": "code",
   "execution_count": 19,
   "metadata": {
    "collapsed": false
   },
   "outputs": [
    {
     "data": {
      "text/plain": [
       "True"
      ]
     },
     "execution_count": 19,
     "metadata": {
     },
     "output_type": "execute_result"
    }
   ],
   "source": [
    "\"t\".islower()"
   ]
  },
  {
   "cell_type": "code",
   "execution_count": 20,
   "metadata": {
    "collapsed": false
   },
   "outputs": [
    {
     "name": "stdout",
     "output_type": "stream",
     "text": [
      "dreadful tinny s()rt ()f w()rd\n"
     ]
    }
   ],
   "source": [
    "# REPLACE\n",
    "\n",
    "tin  = \"dreadful tinny sort of word\"\n",
    "\n",
    "new_tin = tin.replace('o', '()')\n",
    "\n",
    "print(new_tin)"
   ]
  },
  {
   "cell_type": "code",
   "execution_count": 21,
   "metadata": {
    "collapsed": false
   },
   "outputs": [
    {
     "name": "stdout",
     "output_type": "stream",
     "text": [
      "oneone0oneone0one000one00one0one0one0one00one\n"
     ]
    }
   ],
   "source": [
    "bin = \"11011010001001010101001\"\n",
    "\n",
    "bin_new = bin.replace('1', 'one')\n",
    "\n",
    "print(bin_new)"
   ]
  },
  {
   "cell_type": "code",
   "execution_count": 22,
   "metadata": {
    "collapsed": false
   },
   "outputs": [
    {
     "name": "stdout",
     "output_type": "stream",
     "text": [
      "Parlett Pelleriti Chelsea Mariko\n"
     ]
    }
   ],
   "source": [
    "name = \"Chelsea Mariko Parlett Pelleriti\"\n",
    "\n",
    "first, middle, last1, last2 = name.split(' ')\n",
    "\n",
    "print(last1,last2,first,middle)"
   ]
  },
  {
   "cell_type": "code",
   "execution_count": 23,
   "metadata": {
    "collapsed": false
   },
   "outputs": [
    {
     "name": "stdout",
     "output_type": "stream",
     "text": [
      "['Once', 'upon', 'a', 'midnight', 'dreary,', 'while', 'I', 'pondered,', 'weak', 'and', 'weary,', 'Over', 'many', 'a', 'quaint', 'and', 'curious', 'volume', 'of', 'forgotten', 'lore', 'While', 'I', 'nodded,', 'nearly', 'napping,', 'suddenly', 'there', 'came', 'a', 'tapping,', 'As', 'of', 'some', 'one', 'gently', 'rapping,', 'rapping', 'at', 'my', 'chamber', 'door.', 'Tis', 'some', 'visitor,', 'I', 'muttered,', 'tapping', 'at', 'my', 'chamber', 'door', 'Only', 'this', 'and', 'nothing', 'more.']\n"
     ]
    }
   ],
   "source": [
    "splitting_str = \"Once upon a midnight dreary, while I pondered, weak and weary, Over many a quaint and curious volume of forgotten lore While I nodded, nearly napping, suddenly there came a tapping, As of some one gently rapping, rapping at my chamber door. Tis some visitor, I muttered, tapping at my chamber door Only this and nothing more.\"\n",
    "\n",
    "List_of_words = splitting_str.split(' ')\n",
    "\n",
    "print(List_of_words)"
   ]
  },
  {
   "cell_type": "code",
   "execution_count": 24,
   "metadata": {
    "collapsed": false
   },
   "outputs": [
    {
     "name": "stdout",
     "output_type": "stream",
     "text": [
      "...\n",
      "...\n",
      "found an a\n",
      "...\n",
      "...\n",
      "...\n",
      "...\n",
      "...\n",
      "...\n",
      "...\n",
      "...\n",
      "...\n",
      "...\n",
      "found an a\n",
      "...\n",
      "...\n",
      "...\n",
      "...\n",
      "...\n",
      "...\n",
      "...\n",
      "...\n",
      "...\n",
      "...\n",
      "...\n",
      "...\n",
      "...\n",
      "...\n",
      "...\n",
      "found an a\n",
      "...\n",
      "...\n",
      "...\n",
      "...\n",
      "...\n",
      "...\n",
      "...\n",
      "...\n",
      "...\n",
      "...\n",
      "...\n",
      "...\n",
      "...\n",
      "...\n",
      "...\n",
      "...\n",
      "...\n",
      "...\n",
      "...\n",
      "...\n",
      "...\n",
      "...\n",
      "...\n",
      "...\n",
      "...\n",
      "...\n",
      "...\n"
     ]
    }
   ],
   "source": [
    "for word in List_of_words:\n",
    "    if word == \"a\":\n",
    "        print(\"found an a\")\n",
    "    else:\n",
    "        print(\"...\")"
   ]
  },
  {
   "cell_type": "code",
   "execution_count": 26,
   "metadata": {
    "collapsed": false
   },
   "outputs": [
    {
     "name": "stdout",
     "output_type": "stream",
     "text": [
      "['ID,session,score', '101,3,75.2', '102,3,89.7', '104,3,200.1', '105,3,89.0', '106,3,67.9', '107,2,34.5', '108,2,45.7', '109,1,56.8']\n",
      "\n",
      "\n",
      "['ID', 'session', 'score']\n",
      "['101', '3', '75.2']\n",
      "['102', '3', '89.7']\n",
      "['104', '3', '200.1']\n",
      "['105', '3', '89.0']\n",
      "['106', '3', '67.9']\n",
      "['107', '2', '34.5']\n",
      "['108', '2', '45.7']\n",
      "['109', '1', '56.8']\n"
     ]
    }
   ],
   "source": [
    "csv = \"ID,session,score\\n101,3,75.2\\n102,3,89.7\\n104,3,200.1\\n105,3,89.0\\n106,3,67.9\\n107,2,34.5\\n108,2,45.7\\n109,1,56.8\"\n",
    "\n",
    "#this is  how files  like excel files are stored, '\\n' shows where a new row beings, and columns are separated by commas\n",
    "\n",
    "pretty_csv = csv.split('\\n')\n",
    "\n",
    "print(pretty_csv)\n",
    "\n",
    "print('\\n')\n",
    "\n",
    "\n",
    "for row in pretty_csv:\n",
    "    print(row.split(','))"
   ]
  },
  {
   "cell_type": "code",
   "execution_count": 27,
   "metadata": {
    "collapsed": false
   },
   "outputs": [
    {
     "name": "stdout",
     "output_type": "stream",
     "text": [
      "nope\n",
      "nope\n",
      "nope\n",
      "nope\n",
      "nope\n",
      "nope\n",
      "nope\n",
      "found 108,2,45.7\n"
     ]
    }
   ],
   "source": [
    "i = 0\n",
    "current_row = pretty_csv[i]\n",
    "\n",
    "while '108' not in current_row:\n",
    "    print(\"nope\")\n",
    "    i += 1\n",
    "    current_row = pretty_csv[i]\n",
    "else:\n",
    "    print(\"found\", current_row)\n",
    "    "
   ]
  },
  {
   "cell_type": "code",
   "execution_count": 0,
   "metadata": {
    "collapsed": false
   },
   "outputs": [
   ],
   "source": [
   ]
  }
 ],
 "metadata": {
  "kernelspec": {
   "display_name": "Python 3 (Ubuntu Linux)",
   "language": "python",
   "name": "python3"
  },
  "language_info": {
   "codemirror_mode": {
    "name": "ipython",
    "version": 3
   },
   "file_extension": ".py",
   "mimetype": "text/x-python",
   "name": "python",
   "nbconvert_exporter": "python",
   "pygments_lexer": "ipython3",
   "version": "3.5.2"
  }
 },
 "nbformat": 4,
 "nbformat_minor": 0
}