{
 "cells": [
  {
   "cell_type": "code",
   "execution_count": 6,
   "metadata": {
    "collapsed": false
   },
   "outputs": [
    {
     "name": "stdout",
     "output_type": "stream",
     "text": [
      "5\n"
     ]
    }
   ],
   "source": [
    "# Functions\n",
    "## Syntax\n",
    "def aFunction(argument1,argument2):\n",
    "    pass\n",
    "    #you can use argument1 and argument2, they're from outside the function\n",
    "    #function stuff\n",
    "    #return, print, or both!\n",
    "#----------------------------------------------------------------------\n",
    "# def adder(x,y):\n",
    "#     summ =  x + y\n",
    "#     print(summ)\n",
    "\n",
    "# adder(1,5)\n",
    "\n",
    "# adder(8,7)\n",
    "#----------------------------------------------------------------------\n",
    "def adder2(x,y):\n",
    "    summ =  x + y\n",
    "    return summ\n",
    "\n",
    "# x = 10\n",
    "# b = 4\n",
    "# print(\"hello\")\n",
    "# adder2(1,4)\n",
    "# print(\"no\")\n",
    "\n",
    "#print(summ)\n",
    "#what?!\n",
    "\n",
    "thisSum = adder2(1,4)\n",
    "print(thisSum)\n"
   ]
  },
  {
   "cell_type": "code",
   "execution_count": 7,
   "metadata": {
    "collapsed": false
   },
   "outputs": [
    {
     "name": "stdout",
     "output_type": "stream",
     "text": [
      "True False\n"
     ]
    }
   ],
   "source": [
    "def evenChecker(n):\n",
    "    if n%2 == 0:\n",
    "        return True\n",
    "    else:\n",
    "        return False\n",
    "\n",
    "eight = evenChecker(8)\n",
    "nine = evenChecker(9)\n",
    "\n",
    "print(eight,nine)"
   ]
  },
  {
   "cell_type": "code",
   "execution_count": 9,
   "metadata": {
    "collapsed": false
   },
   "outputs": [
   ],
   "source": [
    "def listWORDcounter(L):\n",
    "    counts = {}\n",
    "    for word in L:\n",
    "        if word in counts:\n",
    "            counts[word] += 1\n",
    "        else:\n",
    "            counts[word] = 1\n",
    "    return(counts)\n",
    "\n",
    "my_counts = listWORDcounter([\"can\", \"a\",\"bee\", \"be\", \"said\", \"to\", \"be\", \"or\", \"not\", \"to\", \"be\", \"an\", \"entire\", \"bee\", \"if\", \"half\", \"the\",\"bee\", \"is\", \"not\", \"a\", \"bee\", \"due\", \"to\", \"an\",\"ancient\", \"injury\"])\n",
    "\n",
    "print(my_counts)"
   ]
  },
  {
   "cell_type": "code",
   "execution_count": 11,
   "metadata": {
    "collapsed": false
   },
   "outputs": [
    {
     "name": "stdout",
     "output_type": "stream",
     "text": [
      "{'blue': 8, 'yellow': 10, 'red': 7}\n",
      "{'blue': 8, 'yellow': 10, 'red': 7}\n"
     ]
    }
   ],
   "source": [
    "# Harder Functions\n",
    "import random\n",
    "\n",
    "di = {'blue':0, 'red': 0, 'yellow': 0}\n",
    "\n",
    "def randomColors(di2):\n",
    "    i = 0\n",
    "    while i < 25:\n",
    "        color =  random.choice([\"blue\", \"red\", \"yellow\"])\n",
    "        di2[color] += 1\n",
    "        i += 1\n",
    "    print(di2)\n",
    "    return di2\n",
    "\n",
    "\n",
    "#randomColors(di)\n",
    "b = randomColors(di)\n",
    "print(b)"
   ]
  },
  {
   "cell_type": "raw",
   "metadata": {
    "collapsed": false
   },
   "source": [
   ]
  },
  {
   "cell_type": "code",
   "execution_count": 13,
   "metadata": {
    "collapsed": false
   },
   "outputs": [
    {
     "name": "stdout",
     "output_type": "stream",
     "text": [
      "skipped\n",
      "skipped\n",
      "skipped\n",
      "skipped\n",
      "{'hash': 1, 'hilbilly': 1, 'genial': 1, 'hostel': 1, 'hopeless': 1, 'holland': 1, 'hobbits': 2, 'gorgeous': 1, 'gilato': 1, 'holiday': 1, 'harry': 1, 'happy': 2, 'honest': 1, 'gasp': 2, 'harmonica': 1, 'heroine': 2, 'hotel': 1, 'halibut': 2}\n",
      "{'baste': 1, 'hopeless': 1, 'befriend': 1, 'bottles': 1, 'honest': 1, 'hobbits': 3, 'gorgeous': 1, 'green': 1, 'banquet': 2, 'horror': 1, 'harry': 1, 'happy': 2, 'boxes': 1, 'haste': 1, 'gasp': 3, 'harmonica': 1, 'heroine': 2, 'hash': 1, 'hilbilly': 1, 'genial': 1, 'gilato': 1, 'holland': 1, 'hostel': 1, 'holiday': 1, 'bask': 2, 'gargantuan': 1, 'hotel': 1, 'generous': 1, 'halibut': 2}\n"
     ]
    }
   ],
   "source": [
    "def really_complex_function(LiL,D,my_bool):\n",
    "    for l in LiL:\n",
    "        if my_bool and len(l) < 5:\n",
    "            print(\"skipped\")\n",
    "            continue\n",
    "        for it in l:\n",
    "            if it in D:\n",
    "                D[it] += 1\n",
    "            else:\n",
    "                D[it] = 1\n",
    "    return D\n",
    "\n",
    "my_dict = {}\n",
    "list_in_list = [\n",
    "    ['happy', 'halibut', 'harry', 'holland',  'hobbits', 'heroine'],\n",
    "    ['generous', 'green', 'gasp', 'gargantuan'],\n",
    "    ['honest', 'happy', 'holiday', 'hash', 'harmonica', 'hilbilly'],\n",
    "    ['befriend', 'bask', 'baste', 'banquet'],\n",
    "    ['horror',  'hobbits', 'haste'],\n",
    "    ['gorgeous', 'genial', 'gilato', 'gasp', 'gasp'],\n",
    "    ['hotel', 'hostel',  'hopeless', 'halibut', 'hobbits', 'heroine'],\n",
    "    ['bottles', 'boxes', 'bask', 'banquet']\n",
    "]\n",
    "\n",
    "output = really_complex_function(list_in_list, my_dict, True)\n",
    "print(output)\n",
    "\n",
    "\n",
    "\n",
    "my_dict = {}\n",
    "output = really_complex_function(list_in_list, my_dict, False)\n",
    "\n",
    "print(output)\n"
   ]
  },
  {
   "cell_type": "code",
   "execution_count": 0,
   "metadata": {
    "collapsed": false
   },
   "outputs": [
   ],
   "source": [
   ]
  }
 ],
 "metadata": {
  "kernelspec": {
   "display_name": "Python 3 (Anaconda)",
   "language": "python",
   "name": "anaconda3"
  },
  "language_info": {
   "codemirror_mode": {
    "name": "ipython",
    "version": 3
   },
   "file_extension": ".py",
   "mimetype": "text/x-python",
   "name": "python",
   "nbconvert_exporter": "python",
   "pygments_lexer": "ipython3",
   "version": "3.5.4"
  }
 },
 "nbformat": 4,
 "nbformat_minor": 0
}