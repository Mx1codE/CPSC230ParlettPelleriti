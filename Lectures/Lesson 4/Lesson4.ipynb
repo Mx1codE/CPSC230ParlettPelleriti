{
 "cells": [
  {
   "cell_type": "code",
   "execution_count": 12,
   "metadata": {
    "collapsed": false
   },
   "outputs": [
    {
     "name": "stdout",
     "output_type": "stream",
     "text": [
      "[]\n",
      "['a', 'f']\n"
     ]
    }
   ],
   "source": [
    "# LISTS AND MORE LOOPS!\n",
    "\n",
    "a = list()\n",
    "a = []\n",
    "\n",
    "print(a)\n",
    "\n",
    "myvar = \"For\"\n",
    "\n",
    "my_list = ['a', 'b', 'f', 7, myvar]\n",
    "\n",
    "#ordered\n",
    "\n",
    "#my_list[0]\n",
    "\n",
    "#my_list[2:4]\n",
    "\n",
    "print(my_list[0:4:2])\n"
   ]
  },
  {
   "cell_type": "code",
   "execution_count": 14,
   "metadata": {
    "collapsed": false
   },
   "outputs": [
    {
     "name": "stdout",
     "output_type": "stream",
     "text": [
      "['Name', 'hair color', 'eye color', 'Current Netflix Show']\n",
      "['Chelsea', 'brown', 'brown', 'The Office']\n",
      "['Tony', 'brown', 'green', 'Black Mirror']\n",
      "['Joyce', 'black', 'brown', 'Ozarks']\n"
     ]
    }
   ],
   "source": [
    "spreadSheet = [\n",
    "[\"Name\", \"hair color\",  \"eye color\", \"Current Netflix Show\"],\n",
    "[\"Chelsea\", \"brown\", \"brown\", \"The Office\"],\n",
    "[\"Tony\", \"brown\", \"green\", \"Black Mirror\"],\n",
    "[\"Joyce\", \"black\",  \"brown\", \"Ozarks\"]\n",
    "]\n",
    "\n",
    "for row in spreadSheet:\n",
    "    print(row)"
   ]
  },
  {
   "cell_type": "code",
   "execution_count": 4,
   "metadata": {
    "collapsed": false
   },
   "outputs": [
    {
     "name": "stdout",
     "output_type": "stream",
     "text": [
      "['Name', 'hair color', 'eye color', 'Current Netflix Show']\n"
     ]
    }
   ],
   "source": [
    "column_headers = spreadSheet[0]\n",
    "\n",
    "print(column_headers)"
   ]
  },
  {
   "cell_type": "code",
   "execution_count": 5,
   "metadata": {
    "collapsed": false
   },
   "outputs": [
    {
     "name": "stdout",
     "output_type": "stream",
     "text": [
      "['Chelsea', 'brown', 'brown', 'The Office']\n"
     ]
    }
   ],
   "source": [
    "row_1 = spreadSheet[1]\n",
    "\n",
    "print(row_1)"
   ]
  },
  {
   "cell_type": "code",
   "execution_count": 7,
   "metadata": {
    "collapsed": false
   },
   "outputs": [
    {
     "name": "stdout",
     "output_type": "stream",
     "text": [
      "Chelsea\n"
     ]
    }
   ],
   "source": [
    "name = row_1[0]\n",
    "\n",
    "print(name)"
   ]
  },
  {
   "cell_type": "code",
   "execution_count": 15,
   "metadata": {
    "collapsed": false
   },
   "outputs": [
    {
     "name": "stdout",
     "output_type": "stream",
     "text": [
      "Chelsea\n",
      "C\n"
     ]
    }
   ],
   "source": [
    "name_2 = spreadSheet[1][0]\n",
    "\n",
    "print(name_2)\n",
    "\n",
    "letter = spreadSheet[1][0][0]\n",
    "print(letter)"
   ]
  },
  {
   "cell_type": "code",
   "execution_count": 16,
   "metadata": {
    "collapsed": false
   },
   "outputs": [
    {
     "name": "stdout",
     "output_type": "stream",
     "text": [
      "Black Mirror\n",
      "Black Mirror\n"
     ]
    }
   ],
   "source": [
    "show = spreadSheet[2][3]\n",
    "\n",
    "print(show)\n",
    "\n",
    "\n",
    "show_alt = spreadSheet[2][-1]\n",
    "\n",
    "print(show)"
   ]
  },
  {
   "cell_type": "code",
   "execution_count": 18,
   "metadata": {
    "collapsed": false
   },
   "outputs": [
    {
     "ename": "TypeError",
     "evalue": "can only concatenate list (not \"str\") to list",
     "output_type": "error",
     "traceback": [
      "\u001b[0;31m---------------------------------------------------------------------------\u001b[0m",
      "\u001b[0;31mTypeError\u001b[0m                                 Traceback (most recent call last)",
      "\u001b[0;32m<ipython-input-18-59b8c4b3576b>\u001b[0m in \u001b[0;36m<module>\u001b[0;34m()\u001b[0m\n\u001b[1;32m      5\u001b[0m \u001b[0mlast_n\u001b[0m \u001b[0;34m=\u001b[0m \u001b[0;34m\"Pelleriti\"\u001b[0m\u001b[0;34m\u001b[0m\u001b[0m\n\u001b[1;32m      6\u001b[0m \u001b[0;34m\u001b[0m\u001b[0m\n\u001b[0;32m----> 7\u001b[0;31m \u001b[0mmy_name\u001b[0m \u001b[0;34m=\u001b[0m \u001b[0mmy_name\u001b[0m \u001b[0;34m+\u001b[0m \u001b[0mlast_n\u001b[0m\u001b[0;34m\u001b[0m\u001b[0m\n\u001b[0m\u001b[1;32m      8\u001b[0m \u001b[0;34m\u001b[0m\u001b[0m\n\u001b[1;32m      9\u001b[0m \u001b[0mprint\u001b[0m\u001b[0;34m(\u001b[0m\u001b[0mmy_name\u001b[0m\u001b[0;34m)\u001b[0m\u001b[0;34m\u001b[0m\u001b[0m\n",
      "\u001b[0;31mTypeError\u001b[0m: can only concatenate list (not \"str\") to list"
     ]
    }
   ],
   "source": [
    "# OPERATORS\n",
    "\n",
    "my_name =[\"Chelea\", \"Mariko\", \"Parlett\"]\n",
    "\n",
    "last_n = [\"Pelleriti\"]\n",
    "\n",
    "my_name = my_name + last_n\n",
    "\n",
    "print(my_name)\n"
   ]
  },
  {
   "cell_type": "code",
   "execution_count": 19,
   "metadata": {
    "collapsed": false
   },
   "outputs": [
    {
     "name": "stdout",
     "output_type": "stream",
     "text": [
      "['Chelea', 'Mariko', 'Parlett', 'Chelea', 'Mariko', 'Parlett', 'Chelea', 'Mariko', 'Parlett', 'Chelea', 'Mariko', 'Parlett', 'Chelea', 'Mariko', 'Parlett', 'Chelea', 'Mariko', 'Parlett', 'Chelea', 'Mariko', 'Parlett', 'Chelea', 'Mariko', 'Parlett', 'Chelea', 'Mariko', 'Parlett', 'Chelea', 'Mariko', 'Parlett']\n"
     ]
    }
   ],
   "source": [
    "my_nameeee = my_name * 10\n",
    "\n",
    "print(my_nameeee)"
   ]
  },
  {
   "cell_type": "code",
   "execution_count": 20,
   "metadata": {
    "collapsed": false
   },
   "outputs": [
    {
     "ename": "TypeError",
     "evalue": "can only concatenate list (not \"str\") to list",
     "output_type": "error",
     "traceback": [
      "\u001b[0;31m---------------------------------------------------------------------------\u001b[0m",
      "\u001b[0;31mTypeError\u001b[0m                                 Traceback (most recent call last)",
      "\u001b[0;32m<ipython-input-20-94350d384e41>\u001b[0m in \u001b[0;36m<module>\u001b[0;34m()\u001b[0m\n\u001b[0;32m----> 1\u001b[0;31m \u001b[0mmy_name\u001b[0m \u001b[0;34m=\u001b[0m  \u001b[0mmy_name\u001b[0m \u001b[0;34m+\u001b[0m \u001b[0;34m\"hello\"\u001b[0m\u001b[0;34m\u001b[0m\u001b[0m\n\u001b[0m",
      "\u001b[0;31mTypeError\u001b[0m: can only concatenate list (not \"str\") to list"
     ]
    }
   ],
   "source": [
    "my_name =  my_name + \"hello\""
   ]
  },
  {
   "cell_type": "code",
   "execution_count": 21,
   "metadata": {
    "collapsed": false
   },
   "outputs": [
    {
     "data": {
      "text/plain": [
       "True"
      ]
     },
     "execution_count": 21,
     "metadata": {
     },
     "output_type": "execute_result"
    }
   ],
   "source": [
    "lst_1 = [\"a\", \"b\", \"cat\"]\n",
    "\n",
    "lst_2 = [\"a\",\"b\", \"cry\"]\n",
    "\n",
    "lst_1 < lst_2"
   ]
  },
  {
   "cell_type": "code",
   "execution_count": 22,
   "metadata": {
    "collapsed": false
   },
   "outputs": [
    {
     "data": {
      "text/plain": [
       "True"
      ]
     },
     "execution_count": 22,
     "metadata": {
     },
     "output_type": "execute_result"
    }
   ],
   "source": [
    "lst_3 = [1,3,5]\n",
    "\n",
    "lst_4 = [1,6,2,4,5]\n",
    "\n",
    "lst_3 < lst_4"
   ]
  },
  {
   "cell_type": "code",
   "execution_count": 24,
   "metadata": {
    "collapsed": false
   },
   "outputs": [
    {
     "data": {
      "text/plain": [
       "True"
      ]
     },
     "execution_count": 24,
     "metadata": {
     },
     "output_type": "execute_result"
    }
   ],
   "source": [
    "lst_5 = [1,2,3]\n",
    "\n",
    "lst_6 = [1,2,3,4]\n",
    "\n",
    "lst_5 < lst_6"
   ]
  },
  {
   "cell_type": "code",
   "execution_count": 25,
   "metadata": {
    "cocalc": {
     "outputs": {
      "0": {
       "name": "input",
       "opts": {
        "password": false,
        "prompt": "guess a character from FRIENDS "
       },
       "output_type": "stream",
       "value": "michael"
      },
      "1": {
       "name": "input",
       "opts": {
        "password": false,
        "prompt": "guess a character from FRIENDS "
       },
       "output_type": "stream",
       "value": "ross"
      }
     }
    },
    "collapsed": false
   },
   "outputs": [
    {
     "name": "stdout",
     "output_type": "stream",
     "text": "guess a character from FRIENDS  michael"
    },
    {
     "name": "stdout",
     "output_type": "stream",
     "text": "guess a character from FRIENDS  ross"
    },
    {
     "name": "stdout",
     "output_type": "stream",
     "text": [
      "Your guess of ross is correct!\n"
     ]
    }
   ],
   "source": [
    "friends = [\"monica\", \"chandler\", \"pheobe\", \"ross\", \"rachel\", \"gunther\", \"janice\", \"mike\", \"carol\", \"joey\", \"ben\", \"emma\"]\n",
    "\n",
    "while True:\n",
    "    guess = input(\"guess a character from FRIENDS \")\n",
    "    guess = guess.lower()\n",
    "    if guess in friends:\n",
    "        print(\"Your guess of \" + guess + \" is correct!\")\n",
    "        break\n",
    "\n",
    "#HOW CAN I MAKE THIS ACCOUNT FOR CAPITALIZATION?"
   ]
  },
  {
   "cell_type": "code",
   "execution_count": 26,
   "metadata": {
    "collapsed": false
   },
   "outputs": [
    {
     "name": "stdout",
     "output_type": "stream",
     "text": [
      "nah\n",
      "nah\n",
      "nah\n",
      "nah\n",
      "nah\n",
      "nah\n",
      "nah\n",
      "nah\n",
      "winner!!\n",
      "nah\n",
      "nah\n",
      "winner!!\n"
     ]
    }
   ],
   "source": [
    "nums = [1,2,4,7,8,10,66,38,294,18,18,294]\n",
    "\n",
    "for n in nums:\n",
    "    if n == max(nums):\n",
    "        print(\"winner!!\")\n",
    "    else:\n",
    "        print(\"nah\")"
   ]
  },
  {
   "cell_type": "code",
   "execution_count": 28,
   "metadata": {
    "collapsed": false
   },
   "outputs": [
    {
     "name": "stdout",
     "output_type": "stream",
     "text": [
      "to\n",
      "['To', 'be', 'or', 'not', 'to', 'be']\n"
     ]
    }
   ],
   "source": [
    "# MUTABILITY\n",
    "hamlet = [\"to\", \"be\", \"or\", \"not\", \"to\", \"be\"]\n",
    "\n",
    "print(hamlet[0])\n",
    "\n",
    "hamlet[0] = \"To\"\n",
    "\n",
    "print(hamlet)"
   ]
  },
  {
   "cell_type": "code",
   "execution_count": 29,
   "metadata": {
    "collapsed": false
   },
   "outputs": [
    {
     "data": {
      "text/plain": [
       "3"
      ]
     },
     "execution_count": 29,
     "metadata": {
     },
     "output_type": "execute_result"
    }
   ],
   "source": [
    "hamlet.index(\"not\")"
   ]
  },
  {
   "cell_type": "code",
   "execution_count": 30,
   "metadata": {
    "collapsed": false
   },
   "outputs": [
    {
     "data": {
      "text/plain": [
       "2"
      ]
     },
     "execution_count": 30,
     "metadata": {
     },
     "output_type": "execute_result"
    }
   ],
   "source": [
    "hamlet.count(\"be\")"
   ]
  },
  {
   "cell_type": "code",
   "execution_count": 37,
   "metadata": {
    "collapsed": false
   },
   "outputs": [
    {
     "name": "stdout",
     "output_type": "stream",
     "text": [
      "['apples', 'apples']\n",
      "['bananas', 'apples', 'apples']\n",
      "['bananas', 'apples', 'apples', 'eggs']\n",
      "['bananas', 'apples', 'eggs']\n",
      "eggs ['bananas', 'apples']\n"
     ]
    }
   ],
   "source": [
    "# CHANGING LISTS\n",
    "\n",
    "emptyList = []\n",
    "\n",
    "\n",
    "emptyList.append(\"apples\")\n",
    "emptyList.append(\"apples\")\n",
    "\n",
    "print(emptyList)\n",
    "\n",
    "emptyList.insert(0,\"bananas\")\n",
    "\n",
    "print(emptyList)\n",
    "\n",
    "emptyList.append(\"eggs\")\n",
    "\n",
    "print(emptyList)\n",
    "\n",
    "emptyList.remove(\"apples\")\n",
    "print(emptyList)\n",
    "\n",
    "lastOne = emptyList.pop()\n",
    "print(lastOne, emptyList)"
   ]
  },
  {
   "cell_type": "code",
   "execution_count": 38,
   "metadata": {
    "collapsed": false
   },
   "outputs": [
    {
     "name": "stdout",
     "output_type": "stream",
     "text": [
      "['apples', 'bananas', 'cantelope', 'deer']\n"
     ]
    }
   ],
   "source": [
    "my_list = [\"cantelope\",\"apples\",\"deer\",\"bananas\"]\n",
    "\n",
    "my_list.sort()\n",
    "\n",
    "print(my_list)\n"
   ]
  },
  {
   "cell_type": "code",
   "execution_count": 39,
   "metadata": {
    "collapsed": false
   },
   "outputs": [
    {
     "name": "stdout",
     "output_type": "stream",
     "text": [
      "['apples', 'bananas', 'cantelope', 'deer']\n",
      "['cantelope', 'apples', 'deer', 'bananas']\n"
     ]
    }
   ],
   "source": [
    "my_list = [\"cantelope\",\"apples\",\"deer\",\"bananas\"]\n",
    "\n",
    "print(sorted(my_list))\n",
    "\n",
    "print(my_list)"
   ]
  },
  {
   "cell_type": "code",
   "execution_count": 42,
   "metadata": {
    "collapsed": false
   },
   "outputs": [
    {
     "name": "stdout",
     "output_type": "stream",
     "text": [
      "q\n",
      "q\n",
      "q\n",
      "3\n"
     ]
    }
   ],
   "source": [
    "st = \"One day, Mr. Finch came into the office. It had been raining. Everything I'm about to say to you was said in front of me on that afternoon. Mr. Finch walked into the office, and he was wearing a raincoat, he was wearing a rain hat, and he had his cane. And he walked in and he said, and I'm quoting, 'Ah! One feels like a duck splashing around in all this wet! And when one feels like a duck, one is happy!'' And then Mary yelled, 'Ooh, ducklings!' To which Mr. Finch replied, 'Too old to be a duckling. Quack, quack.' And then walked into his office. I think about that every day.\"\n",
    "\n",
    "words = st.split(\" \")\n",
    "\n",
    "qs = 0\n",
    "\n",
    "for word in words:\n",
    "    if \"q\" in word.lower():\n",
    "        qs += 1\n",
    "        print(\"q\")\n",
    "print(qs)"
   ]
  },
  {
   "cell_type": "code",
   "execution_count": 44,
   "metadata": {
    "collapsed": false
   },
   "outputs": [
    {
     "name": "stdout",
     "output_type": "stream",
     "text": [
      "Monday\n"
     ]
    }
   ],
   "source": [
    "days = \"Monday Tuesday Wednesday Thursday Friday\"\n",
    "\n",
    "M,T,W,Th,F = days.split(\" \")\n",
    "\n",
    "print(M)"
   ]
  },
  {
   "cell_type": "code",
   "execution_count": 0,
   "metadata": {
    "collapsed": false
   },
   "outputs": [
   ],
   "source": [
   ]
  }
 ],
 "metadata": {
  "kernelspec": {
   "display_name": "Python 3 (Ubuntu Linux)",
   "language": "python",
   "name": "python3"
  },
  "language_info": {
   "codemirror_mode": {
    "name": "ipython",
    "version": 3
   },
   "file_extension": ".py",
   "mimetype": "text/x-python",
   "name": "python",
   "nbconvert_exporter": "python",
   "pygments_lexer": "ipython3",
   "version": "3.5.2"
  }
 },
 "nbformat": 4,
 "nbformat_minor": 0
}