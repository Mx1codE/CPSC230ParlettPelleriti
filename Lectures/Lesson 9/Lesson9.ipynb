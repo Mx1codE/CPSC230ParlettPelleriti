{
 "cells": [
  {
   "cell_type": "code",
   "execution_count": 0,
   "metadata": {
    "collapsed": false
   },
   "outputs": [
   ],
   "source": [
    "# EX\n",
    "import random\n",
    "\n",
    "d = {\"mark\": {\"name\": \"mark\", \"age\": 25, \"quote\": \"oh hi mark\"},\n",
    "    \"lisa\": {\"name\": \"lisa\", \"age\": 28, \"quote\": \"You're tearing me apart lisa\"},\n",
    "     \"johnny\": {\"name\": \"johnny\", \"age\": 30, \"quote\": \"I did not hit her, I did not\"}\n",
    "    }\n",
    "\n",
    "chosenString = input(\"Who would you like to be? \")\n",
    "#------------------------------------------------------------------------------\n",
    "#OLD WAY\n",
    "if chosenString == \"johnny\":\n",
    "    p1 = d[\"johnny\"]\n",
    "elif chosenString == \"mark\":\n",
    "    p1 = d[\"mark\"]\n",
    "else:\n",
    "    p1 = d[\"lisa\"]\n",
    "\n",
    "if chosenString == \"johnny\":\n",
    "    opponent = random.choice([\"mark\", \"lisa\"])\n",
    "    if opponent = \"mark\":\n",
    "        p2 = d[\"mark\"]\n",
    "    else:\n",
    "        p2 = d[\"lisa\"]\n",
    "elif chosenString == \"mark\":\n",
    "    opponent = random.choice([\"johnny\", \"lisa\"])\n",
    "    if opponent = \"johnny\":\n",
    "        p2 = d[\"mark\"]\n",
    "    else:\n",
    "        p2 = d[\"lisa\"]\n",
    "else:\n",
    "    opponent = random.choice([\"mark\", \"johnny\"])  \n",
    "    if opponent = \"mark\":\n",
    "        p2 = d[\"mark\"]\n",
    "    else:\n",
    "        p2 = d[\"johnny\"]\n",
    "#------------------------------------------------------------------------------\n",
    "restofChars = list(d.keys())\n",
    "restofChars.remove(chosenString)\n",
    "\n",
    "opponentString = random.choice(resofChars)\n",
    "\n",
    "p1 = d[chosenString]\n",
    "p2 = d[opponentString]"
   ]
  },
  {
   "cell_type": "code",
   "execution_count": 0,
   "metadata": {
    "collapsed": false
   },
   "outputs": [
   ],
   "source": [
    "# REFACTORING and FUNCTIONS\n",
    "\n",
    "# 1\n",
    "def playerTurn(attacker, attackee, special):\n",
    "    if special:\n",
    "        if attacker['Turn'] >= attacker['SpecialPower']['Cooldown']:\n",
    "            #Do special\n",
    "            damage = random.randint(attacker['SpecialPower']['Range'][0],attacker['SpecialPower']['Range'][1])\n",
    "            print(damage, \"damage done\")\n",
    "            attackee['Health'] -= damage\n",
    "            attacker['Turns'] = 0\n",
    "        else:\n",
    "            damage = random.randint(0,6)\n",
    "            print(damage, \"damage done\")\n",
    "            attackee[\"Health\"] -= damage\n",
    "            attacker['Turns'] += 1\n",
    "    else:\n",
    "        damage = random.randint(0,6)\n",
    "        print(damage, \"damage done\")\n",
    "        attackee[\"Health\"] -= damage\n",
    "        attacker['Turns'] += 1\n",
    "    print(attackee[\"Name\"] + \"'s health is \", attackee[\"Health\"])\n",
    "    \n",
    "        "
   ]
  },
  {
   "cell_type": "code",
   "execution_count": 0,
   "metadata": {
    "collapsed": false
   },
   "outputs": [
   ],
   "source": [
    "def attack(a,b,s):\n",
    "    if s:\n",
    "        damage = random.randint(a[\"Special Power\"][\"Range\"][0],a[\"Special Power\"][\"Range\"][1])\n",
    "        a[\"Turns\"] = 0\n",
    "    else:\n",
    "        damage = random.randint(0,6)\n",
    "        a['Turns'] += 1\n",
    "    print(damage, \"damage done\")\n",
    "    b[\"Health\"] -= damage\n",
    " \n"
   ]
  },
  {
   "cell_type": "code",
   "execution_count": 0,
   "metadata": {
    "collapsed": false
   },
   "outputs": [
   ],
   "source": [
    "def playerTurn(attacker, attackee, special):\n",
    "    if special:\n",
    "        if attacker['Turn'] >= attacker['SpecialPower']['Cooldown']:\n",
    "            attack(attacker,attackee,True)\n",
    "        else:\n",
    "            print(\"Can't use that yet\")\n",
    "            attack(attacker,attackee,False)\n",
    "    else:\n",
    "        attack(attacker,attackee,False)\n",
    "    print(attackee[\"Name\"] + \"'s health is \", attackee[\"Health\"])"
   ]
  },
  {
   "cell_type": "code",
   "execution_count": 0,
   "metadata": {
    "collapsed": false
   },
   "outputs": [
   ],
   "source": [
    "# 2\n",
    "def pizza():\n",
    "    print(\"Thanks for ordering from CPSC Pizza\")\n",
    "    size = input(\"What size pizza would you like? L/M/S \")\n",
    "    while size not in \"LMSlms\":\n",
    "        size = input(\"What size pizza would you like? L/M/S \")\n",
    "    print(\"Thanks\")\n",
    "    topps = []\n",
    "    t = input(\"What topping would you like? Type 'stop' when you're done\")\n",
    "    while t.lower() != 'stop':\n",
    "        topps.append(t)\n",
    "        t = input(\"What topping would you like? Type 'stop' when you're done\")\n",
    "    print(\"Thank you\")\n",
    "    print(\"Your Pizza is a \" + size + \" pizza with \" )\n",
    "    for tt in topps:\n",
    "        print(tt)\n",
    "    \n",
    "        \n",
    "pizza()    "
   ]
  },
  {
   "cell_type": "code",
   "execution_count": 0,
   "metadata": {
    "collapsed": false
   },
   "outputs": [
   ],
   "source": [
    "def pizza():\n",
    "    print(\"Thanks for ordering from CPSC Pizza\")\n",
    "    size = input(\"What size pizza would you like? L/M/S \")\n",
    "    while size not in \"LMSlms\":\n",
    "        size = input(\"What size pizza would you like? L/M/S \")\n",
    "    print(\"Thanks\")\n",
    "    t = input(\"What topping would you like? Type a list of toppings separated by commas\")\n",
    "    t = t.split(\",\")\n",
    "    print(\"Your Pizza is a \" + size + \" pizza with \" )\n",
    "    for tt in t:\n",
    "        print(tt)\n",
    "pizza()"
   ]
  },
  {
   "cell_type": "code",
   "execution_count": 0,
   "metadata": {
    "collapsed": false
   },
   "outputs": [
   ],
   "source": [
    "# LIST COMPREHENSION\n",
    "\n",
    "l= []\n",
    "\n",
    "for i in range(0,2000):\n",
    "    if i%5 == 0:\n",
    "        l.append(i)\n",
    "        \n",
    "        \n",
    "print(l)"
   ]
  },
  {
   "cell_type": "code",
   "execution_count": 1,
   "metadata": {
    "collapsed": false
   },
   "outputs": [
    {
     "name": "stdout",
     "output_type": "stream",
     "text": [
      "[0, 5, 10, 15, 20, 25, 30, 35, 40, 45, 50, 55, 60, 65, 70, 75, 80, 85, 90, 95, 100, 105, 110, 115, 120, 125, 130, 135, 140, 145, 150, 155, 160, 165, 170, 175, 180, 185, 190, 195, 200, 205, 210, 215, 220, 225, 230, 235, 240, 245, 250, 255, 260, 265, 270, 275, 280, 285, 290, 295, 300, 305, 310, 315, 320, 325, 330, 335, 340, 345, 350, 355, 360, 365, 370, 375, 380, 385, 390, 395, 400, 405, 410, 415, 420, 425, 430, 435, 440, 445, 450, 455, 460, 465, 470, 475, 480, 485, 490, 495, 500, 505, 510, 515, 520, 525, 530, 535, 540, 545, 550, 555, 560, 565, 570, 575, 580, 585, 590, 595, 600, 605, 610, 615, 620, 625, 630, 635, 640, 645, 650, 655, 660, 665, 670, 675, 680, 685, 690, 695, 700, 705, 710, 715, 720, 725, 730, 735, 740, 745, 750, 755, 760, 765, 770, 775, 780, 785, 790, 795, 800, 805, 810, 815, 820, 825, 830, 835, 840, 845, 850, 855, 860, 865, 870, 875, 880, 885, 890, 895, 900, 905, 910, 915, 920, 925, 930, 935, 940, 945, 950, 955, 960, 965, 970, 975, 980, 985, 990, 995, 1000, 1005, 1010, 1015, 1020, 1025, 1030, 1035, 1040, 1045, 1050, 1055, 1060, 1065, 1070, 1075, 1080, 1085, 1090, 1095, 1100, 1105, 1110, 1115, 1120, 1125, 1130, 1135, 1140, 1145, 1150, 1155, 1160, 1165, 1170, 1175, 1180, 1185, 1190, 1195, 1200, 1205, 1210, 1215, 1220, 1225, 1230, 1235, 1240, 1245, 1250, 1255, 1260, 1265, 1270, 1275, 1280, 1285, 1290, 1295, 1300, 1305, 1310, 1315, 1320, 1325, 1330, 1335, 1340, 1345, 1350, 1355, 1360, 1365, 1370, 1375, 1380, 1385, 1390, 1395, 1400, 1405, 1410, 1415, 1420, 1425, 1430, 1435, 1440, 1445, 1450, 1455, 1460, 1465, 1470, 1475, 1480, 1485, 1490, 1495, 1500, 1505, 1510, 1515, 1520, 1525, 1530, 1535, 1540, 1545, 1550, 1555, 1560, 1565, 1570, 1575, 1580, 1585, 1590, 1595, 1600, 1605, 1610, 1615, 1620, 1625, 1630, 1635, 1640, 1645, 1650, 1655, 1660, 1665, 1670, 1675, 1680, 1685, 1690, 1695, 1700, 1705, 1710, 1715, 1720, 1725, 1730, 1735, 1740, 1745, 1750, 1755, 1760, 1765, 1770, 1775, 1780, 1785, 1790, 1795, 1800, 1805, 1810, 1815, 1820, 1825, 1830, 1835, 1840, 1845, 1850, 1855, 1860, 1865, 1870, 1875, 1880, 1885, 1890, 1895, 1900, 1905, 1910, 1915, 1920, 1925, 1930, 1935, 1940, 1945, 1950, 1955, 1960, 1965, 1970, 1975, 1980, 1985, 1990, 1995]\n"
     ]
    }
   ],
   "source": [
    "l = [i for i in range(0,2000) if i%5 == 0]\n",
    "print(l)\n",
    "\n",
    "#[thing_to_add for thing in  collection if bool_to_check]"
   ]
  },
  {
   "cell_type": "code",
   "execution_count": 4,
   "metadata": {
    "collapsed": false
   },
   "outputs": [
    {
     "name": "stdout",
     "output_type": "stream",
     "text": [
      "[0, 1, 4, 9, 16]\n",
      "[0, 1, 4, 9, 16]\n"
     ]
    }
   ],
   "source": [
    "k = [i**2 for i in range(0,5)]\n",
    "print(k)\n",
    "\n",
    "k = []\n",
    "for i in range(0,5):\n",
    "    k.append(i**2)\n",
    "print(k)"
   ]
  },
  {
   "cell_type": "code",
   "execution_count": 6,
   "metadata": {
    "collapsed": false
   },
   "outputs": [
    {
     "name": "stdout",
     "output_type": "stream",
     "text": [
      "['Leela!', 'Nibbler!', 'Zoidberg!', 'Bender!', 'Hubert!']\n",
      "['Leela!', 'Nibbler!', 'Zoidberg!', 'Bender!', 'Hubert!']\n"
     ]
    }
   ],
   "source": [
    "names = [\"Fry\", \"Leela\", \"Nibbler\", \"Zoidberg\", \"Bender\",\"Amy\", \"Hubert\"]\n",
    "j = [n+\"!\" for n in names if 'e' in n]\n",
    "print(j)\n",
    "\n",
    "j = []\n",
    "for n in names:\n",
    "    if 'e' in n:\n",
    "        j.append(n + \"!\")\n",
    "print(j)"
   ]
  },
  {
   "cell_type": "code",
   "execution_count": 9,
   "metadata": {
    "collapsed": false
   },
   "outputs": [
    {
     "name": "stdout",
     "output_type": "stream",
     "text": [
      "[2, 3, 5, 7, 11, 13, 17, 19, 23, 29, 31, 37, 41, 43, 47, 53, 59, 61, 67, 71, 73, 79, 83, 89, 97, 101, 103, 107, 109, 113, 127, 131, 137, 139, 149]\n",
      "[2, 3, 5, 7, 11, 13, 17, 19, 23, 29, 31, 37, 41, 43, 47, 53, 59, 61, 67, 71, 73, 79, 83, 89, 97, 101, 103, 107, 109, 113, 127, 131, 137, 139, 149, 151, 157, 163, 167, 173, 179, 181, 191, 193, 197, 199, 211, 223, 227, 229, 233, 239, 241, 251, 257, 263, 269, 271, 277, 281, 283, 293, 307, 311, 313, 317, 331, 337, 347, 349, 353, 359, 367, 373, 379, 383, 389, 397, 401, 409, 419, 421, 431, 433, 439, 443, 449, 457, 461, 463, 467, 479, 487, 491, 499, 503, 509, 521, 523, 541, 547, 557, 563, 569, 571, 577, 587, 593, 599, 601, 607, 613, 617, 619, 631, 641, 643, 647, 653, 659, 661, 673, 677, 683, 691, 701, 709, 719, 727, 733, 739, 743, 751, 757, 761, 769, 773, 787, 797, 809, 811, 821, 823, 827, 829, 839, 853, 857, 859, 863, 877, 881, 883, 887, 907, 911, 919, 929, 937, 941, 947, 953, 967, 971, 977, 983, 991, 997]\n"
     ]
    }
   ],
   "source": [
    "def pri(n):\n",
    "    p = True\n",
    "    for k in range(2,n):\n",
    "        if n%k == 0:\n",
    "            p = False\n",
    "    return p\n",
    "        \n",
    "primes = [i for i in range(2,150) if pri(i)]\n",
    "print(primes)\n",
    "\n",
    "def allThePrimes(n):\n",
    "    l = [i for i in range(2,n+1) if pri(i)]\n",
    "    return l\n",
    "lop = allThePrimes(1000)  \n",
    "print(lop)"
   ]
  },
  {
   "cell_type": "code",
   "execution_count": 0,
   "metadata": {
    "collapsed": false
   },
   "outputs": [
   ],
   "source": [
   ]
  }
 ],
 "metadata": {
  "kernelspec": {
   "display_name": "Python 3 (Ubuntu Linux)",
   "language": "python",
   "name": "python3"
  },
  "language_info": {
   "codemirror_mode": {
    "name": "ipython",
    "version": 3
   },
   "file_extension": ".py",
   "mimetype": "text/x-python",
   "name": "python",
   "nbconvert_exporter": "python",
   "pygments_lexer": "ipython3",
   "version": "3.5.2"
  }
 },
 "nbformat": 4,
 "nbformat_minor": 0
}