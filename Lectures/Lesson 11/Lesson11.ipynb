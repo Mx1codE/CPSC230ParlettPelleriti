{
 "cells": [
  {
   "cell_type": "code",
   "execution_count": 4,
   "metadata": {
    "collapsed": false
   },
   "outputs": [
    {
     "name": "stdout",
     "output_type": "stream",
     "text": [
      "529\n",
      "92\n",
      "161\n",
      "25921 644\n"
     ]
    }
   ],
   "source": [
    "# CLASSES\n",
    "\n",
    "class square():\n",
    "    def __init__(self,side):\n",
    "        self.side_length = side\n",
    "        self.shape = \"square\"\n",
    "    def area(self):\n",
    "        return self.side_length **2\n",
    "    \n",
    "    def perimeter(self):\n",
    "        return 4 * self.side_length\n",
    "    def scaleSize(self,scaler):\n",
    "        self.side_length *= scaler\n",
    "    def shapeType(self):\n",
    "        return self.shape\n",
    "#-------------------------------------------------------------------------------\n",
    "# bob = square(7)\n",
    "# a = bob.shapeType()\n",
    "# print(a)\n",
    "#-------------------------------------------------------------------------------\n",
    "jim = square(23)\n",
    "print(jim.area())\n",
    "print(jim.perimeter())\n",
    "\n",
    "jim.scaleSize(7)\n",
    "print(jim.side_length)\n",
    "\n",
    "a = jim.area()\n",
    "p = jim.perimeter()\n",
    "\n",
    "print(a,p)\n",
    "\n",
    "\n",
    "#-------------------------------------------------------------------------------"
   ]
  },
  {
   "cell_type": "code",
   "execution_count": 6,
   "metadata": {
    "collapsed": false
   },
   "outputs": [
    {
     "name": "stdout",
     "output_type": "stream",
     "text": [
      "[<__main__.square object at 0x7fbd3d69cd68>, <__main__.square object at 0x7fbd3d69c470>, <__main__.square object at 0x7fbd3d69c4a8>, <__main__.square object at 0x7fbd3d69c4e0>, <__main__.square object at 0x7fbd3d69c518>, <__main__.square object at 0x7fbd3d69c550>]\n"
     ]
    },
    {
     "data": {
      "text/plain": [
       "8"
      ]
     },
     "execution_count": 6,
     "metadata": {
     },
     "output_type": "execute_result"
    }
   ],
   "source": [
    "squareL = []\n",
    "for i in range(2,8):\n",
    "    squareL.append(square(i))\n",
    "\n",
    "\n",
    "print(squareL)\n",
    "\n",
    "squareL[0].perimeter()"
   ]
  },
  {
   "cell_type": "code",
   "execution_count": 11,
   "metadata": {
    "collapsed": false
   },
   "outputs": [
    {
     "name": "stdout",
     "output_type": "stream",
     "text": [
      "Introducing, the newest Python, John Cleese\n",
      "John Cleese\n",
      "Congrats! Sketch Written\n",
      "['Ministry of Silly Walks', 'Dead Parrot', 'Cheese Shoppe', 'Hungarian Phrasebook']\n",
      "I have a silly walk and I'd like to obtain a Government grant to help me develop it\n",
      "Introducing, the newest Python, Michael Palin\n"
     ]
    }
   ],
   "source": [
    "class MontyPythonPython():\n",
    "    def __init__(self, name, sketches):\n",
    "        self.PyName = name\n",
    "        self.PySketches = []\n",
    "        for s in sketches:\n",
    "            self.PySketches.append(s)\n",
    "        print(\"Introducing, the newest Python, \" + self.PyName)\n",
    "\n",
    "    def writeSketch(self, sketchname):\n",
    "        print(\"Congrats! Sketch Written\")\n",
    "        self.PySketches.append(sketchname)\n",
    "\n",
    "    def silly_walk(self):\n",
    "        print(\"I have a silly walk and I'd like to obtain a Government grant to help me develop it\")\n",
    "        \n",
    "John = MontyPythonPython(\"John Cleese\", [\"Ministry of Silly Walks\", \"Dead Parrot\", \"Cheese Shoppe\"])\n",
    "\n",
    "print(John.PyName)\n",
    "\n",
    "John.writeSketch(\"Hungarian Phrasebook\")\n",
    "print(John.PySketches)\n",
    "\n",
    "John.silly_walk()\n",
    "\n",
    "Michael = MontyPythonPython(\"Michael Palin\", [\"Cheese Shoppe\", \"Holy Grail\"])"
   ]
  },
  {
   "cell_type": "code",
   "execution_count": 18,
   "metadata": {
    "collapsed": false
   },
   "outputs": [
    {
     "name": "stdout",
     "output_type": "stream",
     "text": [
      "True\n",
      "False\n"
     ]
    }
   ],
   "source": [
    "class prime():\n",
    "    def __init__(self, value):\n",
    "        self.value = value\n",
    "\n",
    "\n",
    "    def isFactor(self,n):\n",
    "        if n%self.value == 0:\n",
    "            return True\n",
    "        else:\n",
    "            return False\n",
    "\n",
    "\n",
    "    def mersenne(self):\n",
    "        '''a mersenne prime is a prime number that can be re-written as 2^n power -1. aka you can take  2 to the power of some integer n, subtract 1 and get your prime. 7 is a mersenne prime because 2^3-1 = 7'''\n",
    "        A = []\n",
    "        for i in range(2,self.value):\n",
    "            A.append(2**i - 1)\n",
    "        if self.value in A:\n",
    "            return True\n",
    "        else:\n",
    "            return False\n",
    "\n",
    "\n",
    "    def printP(self):\n",
    "        print(self.value)\n",
    "        \n",
    "# seven = prime(7)\n",
    "\n",
    "# print(seven.isFactor(49))\n",
    "# print(seven.mersenne())\n",
    "\n",
    "# seven.printP()\n",
    "\n",
    "apple = prime(127)\n",
    "\n",
    "a = apple.mersenne()\n",
    "print(a)\n",
    "\n",
    "print(apple.isFactor(128))"
   ]
  },
  {
   "cell_type": "code",
   "execution_count": 0,
   "metadata": {
    "collapsed": false
   },
   "outputs": [
   ],
   "source": [
   ]
  }
 ],
 "metadata": {
  "kernelspec": {
   "display_name": "Python 3 (Ubuntu Linux)",
   "language": "python",
   "name": "python3"
  },
  "language_info": {
   "codemirror_mode": {
    "name": "ipython",
    "version": 3
   },
   "file_extension": ".py",
   "mimetype": "text/x-python",
   "name": "python",
   "nbconvert_exporter": "python",
   "pygments_lexer": "ipython3",
   "version": "3.5.2"
  }
 },
 "nbformat": 4,
 "nbformat_minor": 0
}