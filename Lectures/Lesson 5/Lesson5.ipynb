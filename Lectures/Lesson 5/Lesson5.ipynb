{
 "cells": [
  {
   "cell_type": "code",
   "execution_count": 5,
   "metadata": {
    "collapsed": false
   },
   "outputs": [
    {
     "name": "stdout",
     "output_type": "stream",
     "text": [
      "{'name': 'Chelsea', 'hair color': 'brown', 'eye color': 'brown', 'Current Netflix Show': 'The Office'}\n",
      "Chelsea\n",
      "{'name': 'Ashley', 'hair color': 'brown', 'eye color': 'brown', 'Current Netflix Show': 'The Office'}\n",
      "{'Ice Cream': 'Mint Chocolate Chip', 'name': 'Ashley', 'hair color': 'brown', 'eye color': 'brown', 'Current Netflix Show': 'The Office'}\n"
     ]
    }
   ],
   "source": [
    "# DICTIONARIES\n",
    "\n",
    "d = dict()\n",
    "\n",
    "d1 = {}\n",
    "\n",
    "d2 = {\"name\": \"Chelsea\",\n",
    "      \"hair color\":  \"brown\",\n",
    "      \"eye color\": \"brown\",\n",
    "      \"Current Netflix Show\": \"The Office\"}\n",
    "\n",
    "\n",
    "print(d2)\n",
    "\n",
    "name = d2[\"name\"]\n",
    "print(name)\n",
    "\n",
    "\n",
    "\n",
    "d2[\"name\"] = \"Ashley\"\n",
    "print(d2)\n",
    "\n",
    "d2[\"Ice Cream\"] = \"Mint Chocolate Chip\"\n",
    "print(d2)\n",
    "\n",
    "#h = d2[\"hair color\"]\n",
    "#print(h)\n",
    "\n",
    "# show_N = d2[\"Current Netflix Show\"]\n",
    "# print(show_N)\n"
   ]
  },
  {
   "cell_type": "code",
   "execution_count": 7,
   "metadata": {
    "collapsed": false
   },
   "outputs": [
    {
     "name": "stdout",
     "output_type": "stream",
     "text": [
      "Ice Cream\n",
      "Mint Chocolate Chip\n",
      "name\n",
      "Ashley\n",
      "hair color\n",
      "brown\n",
      "eye color\n",
      "brown\n",
      "Current Netflix Show\n",
      "The Office\n"
     ]
    }
   ],
   "source": [
    "for key in d2:\n",
    "    print(key)  #python  loops  through the keys in a dictionary\n",
    "    print(d2[key]) #use the  key to  get  the value  of the item"
   ]
  },
  {
   "cell_type": "code",
   "execution_count": 12,
   "metadata": {
    "collapsed": false
   },
   "outputs": [
    {
     "name": "stdout",
     "output_type": "stream",
     "text": [
      "Piano\n",
      "CS 555\n"
     ]
    }
   ],
   "source": [
    "sched = {\"Monday\": [\"CPSC 230\"],\n",
    "    \"Tuesday\": [\"CS 555\", \"CS 510\"],\n",
    "    \"Wednesday\": [\"CPSC 230\"],\n",
    "    \"Thursday\": [\"CS 555\", \"Piano\"],\n",
    "    \"Friday\": []}\n",
    "\n",
    "sched[\"Monday\"] += [\"Yoga\"]\n",
    "\n",
    "# print(sched[\"Monday\"])\n",
    "\n",
    "#second_class = sched[\"Monday\"][0]\n",
    "\n",
    "\n",
    "#print(second_class)\n",
    "\n",
    "#How do I get \"Piano\" out of this dictionary/list\n",
    "piano = sched[\"Thursday\"][1]\n",
    "\n",
    "print(piano)\n",
    "\n",
    "five = sched[\"Tuesday\"][0]\n",
    "\n",
    "print(five)"
   ]
  },
  {
   "cell_type": "code",
   "execution_count": 14,
   "metadata": {
    "cocalc": {
     "outputs": {
      "0": {
       "name": "input",
       "opts": {
        "password": false,
        "prompt": "Which char? "
       },
       "output_type": "stream",
       "value": "cow"
      }
     }
    },
    "collapsed": false
   },
   "outputs": [
    {
     "name": "stdout",
     "output_type": "stream",
     "text": "Which char?  cow"
    },
    {
     "name": "stdout",
     "output_type": "stream",
     "text": [
      "{'age': 7, 'height': '120in', 'pocket': []}\n"
     ]
    }
   ],
   "source": [
    "d = {'cat': {'age': 9, 'height': '36in', 'pocket':[]},\n",
    "    'dog':{'age': 11, 'height': '20in', 'pocket':[]},\n",
    "    'cow': {'age': 7, 'height': '120in', 'pocket':[]}}\n",
    "\n",
    "\n",
    "chose = input(\"Which char? \")\n",
    "chose = chose.lower()\n",
    "\n",
    "c = d[chose]\n",
    "\n",
    "print(c)\n",
    "\n",
    "#print(len(d))"
   ]
  },
  {
   "cell_type": "code",
   "execution_count": 21,
   "metadata": {
    "collapsed": false
   },
   "outputs": [
    {
     "name": "stdout",
     "output_type": "stream",
     "text": [
      "house\n",
      "Gryffindor\n",
      "age\n",
      "12\n",
      "name\n",
      "Harry Potter\n",
      "house\n",
      "Gryffindor\n",
      "age\n",
      "12\n",
      "name\n",
      "Harry Potter\n"
     ]
    }
   ],
   "source": [
    "d = {'name': 'Harry Potter',  'age': 12, 'house': 'Gryffindor'}\n",
    "\n",
    "#items\n",
    "# a = d.items() #returns the key  value  pairs as tuples\n",
    "# print(a)\n",
    "\n",
    "#keys\n",
    "# a = d.keys() #returns the keys as a list\n",
    "# print(a)\n",
    "\n",
    "# #values\n",
    "# a = d.values()  #returns the values as a  list\n",
    "# print(a)\n",
    "\n",
    "#we  can use this to iterate too (but can also iterate  through dictionary)\n",
    "# for i in d:\n",
    "#     print(i)\n",
    "#     print(d[i])\n",
    "\n",
    "for k in d.keys():\n",
    "    print(k)\n",
    "    print(d[k])\n",
    "for k in d:\n",
    "    print(k)\n",
    "    print(d[k])\n",
    "\n",
    "# for v in d.values():\n",
    "#     print(v)"
   ]
  },
  {
   "cell_type": "code",
   "execution_count": 26,
   "metadata": {
    "collapsed": false
   },
   "outputs": [
    {
     "name": "stdout",
     "output_type": "stream",
     "text": [
      "{'Accounting': 'Anglea', 'Secretary': 'Pam', 'Quality Assurance': 'Creed', 'Sales': 'Jim', 'Regional Manager': 'Michael', 'Assistant to the Regional Manager': 'Dwight'}\n"
     ]
    }
   ],
   "source": [
    "office = {\n",
    "    \"Regional Manager\": \"Michael\",\n",
    "    \"Assistant to the Regional Manager\": \"Dwight\",\n",
    "    \"Secretary\": \"Pam\",\n",
    "    \"Quality Assurance\":\"Creed\",\n",
    "    \"Accounting\": \"Anglea\",\n",
    "    \"Sales\": \"Jim\"\n",
    "}\n",
    "\n",
    "#print all the positions\n",
    "# for k in office:\n",
    "#     print(k)\n",
    "    \n",
    "# for k in office.keys():\n",
    "#     print(k)\n",
    "#print all the people\n",
    "# for val in office.values():\n",
    "#     print(val)\n",
    "#print items and people\n",
    "\n",
    "# for t in office.items():\n",
    "#     print(t)\n",
    "\n",
    "print(office)"
   ]
  },
  {
   "cell_type": "code",
   "execution_count": 27,
   "metadata": {
    "collapsed": false
   },
   "outputs": [
    {
     "name": "stdout",
     "output_type": "stream",
     "text": [
      "{'Accounting': 'Anglea', 'Secretary': 'Pam', 'Quality Assurance': 'Creed', 'Sales': 'Stanley', 'Regional Manager': 'Michael', 'Assistant to the Regional Manager': 'Dwight'}\n"
     ]
    }
   ],
   "source": [
    "# change the  value called \"Sales\" to \"Stanley\"\n",
    "\n",
    "office[\"Sales\"] = \"Stanley\"\n",
    "\n",
    "print(office)"
   ]
  },
  {
   "cell_type": "code",
   "execution_count": 30,
   "metadata": {
    "collapsed": false
   },
   "outputs": [
    {
     "name": "stdout",
     "output_type": "stream",
     "text": [
      "n\n",
      "n\n"
     ]
    }
   ],
   "source": [
    "# set the variable i to be equal to the character at  index 1 of the *value* of the key names \"Accounting\"\n",
    "\n",
    "i = office[\"Accounting\"][1]\n",
    "\n",
    "#what will i be?\n",
    "print(i)\n",
    "\n",
    "one = office[\"Accounting\"]\n",
    "\n",
    "print(one[1])\n",
    "\n",
    "# print(one)"
   ]
  },
  {
   "cell_type": "code",
   "execution_count": 0,
   "metadata": {
    "collapsed": false
   },
   "outputs": [
   ],
   "source": [
   ]
  }
 ],
 "metadata": {
  "kernelspec": {
   "display_name": "Python 3 (Ubuntu Linux)",
   "language": "python",
   "name": "python3"
  },
  "language_info": {
   "codemirror_mode": {
    "name": "ipython",
    "version": 3
   },
   "file_extension": ".py",
   "mimetype": "text/x-python",
   "name": "python",
   "nbconvert_exporter": "python",
   "pygments_lexer": "ipython3",
   "version": "3.5.2"
  }
 },
 "nbformat": 4,
 "nbformat_minor": 0
}