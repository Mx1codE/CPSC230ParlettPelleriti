{
 "cells": [
  {
   "cell_type": "code",
   "execution_count": 2,
   "metadata": {
    "collapsed": false
   },
   "outputs": [
    {
     "name": "stdout",
     "output_type": "stream",
     "text": [
      "Welcome to Today's Lecture\n",
      "Hope you have a great weekend\n"
     ]
    }
   ],
   "source": [
    "# MORE FUNCTIONS\n",
    "\n",
    "def string_PRINTER(string):\n",
    "    print(string)\n",
    "    \n",
    "string_PRINTER(\"Welcome to Today's Lecture\")\n",
    "\n",
    "\n",
    "string_PRINTER(\"Hope you have a great weekend\")"
   ]
  },
  {
   "cell_type": "code",
   "execution_count": 3,
   "metadata": {
    "collapsed": false
   },
   "outputs": [
    {
     "name": "stdout",
     "output_type": "stream",
     "text": [
      "36\n",
      "my_pow is... None\n",
      "my_pow2 is... 216\n"
     ]
    }
   ],
   "source": [
    "def powerMaker(x,y):\n",
    "    p = x**y\n",
    "    print(p)\n",
    "\n",
    "def powerMaker2(x,y):\n",
    "    p = x**y\n",
    "    return(p)\n",
    "\n",
    "my_pow = powerMaker(6,2)\n",
    "\n",
    "my_pow2 = powerMaker2(6,3)\n",
    "\n",
    "print(\"my_pow is...\" ,my_pow)\n",
    "print(\"my_pow2 is...\" ,my_pow2)"
   ]
  },
  {
   "cell_type": "code",
   "execution_count": 4,
   "metadata": {
    "collapsed": false
   },
   "outputs": [
    {
     "name": "stdout",
     "output_type": "stream",
     "text": [
      "[1, 2, 3, 4, 5, 8]\n",
      "0\n"
     ]
    }
   ],
   "source": [
    "#MUTABLE OBJECTS AND LISTS\n",
    "\n",
    "def listChanger(my_list, num):\n",
    "    num += 1\n",
    "    my_list.append(8)\n",
    "\n",
    "a = [1,2,3,4,5]\n",
    "b = 0\n",
    "\n",
    "listChanger(a,b)\n",
    "\n",
    "print(a)\n",
    "print(b)\n"
   ]
  },
  {
   "cell_type": "code",
   "execution_count": 0,
   "metadata": {
    "collapsed": false
   },
   "outputs": [
   ],
   "source": [
    "def evenLengthChecker(a_list):\n",
    "    for w in a_list:\n",
    "        if len(w)%2 == 0:\n",
    "            return True\n",
    "        else:\n",
    "            return False"
   ]
  },
  {
   "cell_type": "code",
   "execution_count": 5,
   "metadata": {
    "collapsed": false
   },
   "outputs": [
    {
     "name": "stdout",
     "output_type": "stream",
     "text": [
      "False\n"
     ]
    }
   ],
   "source": [
    "def fiveAndSeven(n):\n",
    "    #check if divisible by 5 and 7\n",
    "    if n%5 == 0 and n%7 ==0:\n",
    "        return True\n",
    "    else:\n",
    "        return False\n",
    "    \n",
    "boolean = fiveAndSeven(68)\n",
    "\n",
    "print(boolean)"
   ]
  },
  {
   "cell_type": "code",
   "execution_count": 9,
   "metadata": {
    "collapsed": false
   },
   "outputs": [
    {
     "name": "stdout",
     "output_type": "stream",
     "text": [
      "perf\n"
     ]
    }
   ],
   "source": [
    "def perfectNumber(n):\n",
    "    divs = []\n",
    "    for i in range(1,n):\n",
    "        if n%i == 0:\n",
    "            divs.append(i)\n",
    "    s = sum(divs)\n",
    "    if s == n:\n",
    "        print(\"perf\")\n",
    "    else:\n",
    "        print(\"not perf\")\n",
    "perfectNumber(28)"
   ]
  },
  {
   "cell_type": "code",
   "execution_count": 11,
   "metadata": {
    "collapsed": false
   },
   "outputs": [
    {
     "name": "stdout",
     "output_type": "stream",
     "text": [
      "48\n"
     ]
    }
   ],
   "source": [
    "def cupsToTableSpoons(c):\n",
    "    tbs = c*16\n",
    "    return tbs\n",
    "#how can I make this reuseable?\n",
    "\n",
    "ts = cupsToTableSpoons(3)\n",
    "\n",
    "print(ts)"
   ]
  },
  {
   "cell_type": "code",
   "execution_count": 0,
   "metadata": {
    "collapsed": false
   },
   "outputs": [
   ],
   "source": [
    "#Check if 2934 is divisible by 4,5,9,3 and 11.\n",
    "\n",
    "if 2934%4 == 0 and 2934%5 == 0 and  2934%9 == 0 and 2934%3 == 2934%11 == 0:\n",
    "    print(\"TRUE\")\n",
    "\n",
    "\n",
    "def mC(n,m):\n",
    "    if n%m == 0:\n",
    "        return True\n",
    "    else:\n",
    "        return False\n",
    "\n",
    "k = 2934\n",
    "if mC(k,4) and mC(k,5) and mC(k,9) and mC(k,3) and mC(k,11):\n",
    "    print(\"TRUE\")"
   ]
  },
  {
   "cell_type": "code",
   "execution_count": 0,
   "metadata": {
    "collapsed": false
   },
   "outputs": [
   ],
   "source": [
    "def myTurn(pointsTOTAL, robot):\n",
    "    import random\n",
    "    roll = random.randint(1,6)\n",
    "    points = roll\n",
    "    if robot:\n",
    "        while roll > 1 and points < 20:\n",
    "        choice = random.randint(0,1)\n",
    "        if choice == 0:\n",
    "            roll = random.randint(1,6)\n",
    "            points += roll\n",
    "        else:\n",
    "            pointsTOTAL += points\n",
    "            break\n",
    "    else:  #when human  \n",
    "        while roll > 1:\n",
    "            choice = input(\"r or h\")\n",
    "            if choice == 'r':\n",
    "                roll = random.randint(1,6)\n",
    "                points += roll\n",
    "            else:\n",
    "                pointsTOTAL += points\n",
    "                break\n",
    "    return pointsTOTAL\n",
    "\n",
    "robotP = 0\n",
    "humanP = 0\n",
    "while robotP < 100 and humanP <100:\n",
    "    humanP = myTurn(humanP, False)\n",
    "    if humanP <100:\n",
    "        robotP = myTurn(robotP, True)\n",
    "    print(humanP, robotP)"
   ]
  },
  {
   "cell_type": "code",
   "execution_count": 12,
   "metadata": {
    "collapsed": false
   },
   "outputs": [
    {
     "name": "stdout",
     "output_type": "stream",
     "text": [
      "3\n",
      "1\n",
      "2\n",
      "3\n",
      "True\n"
     ]
    }
   ],
   "source": [
    "# TUPLES\n",
    "tup = (1,2,3)\n",
    "tup2 = tup + tup\n",
    "\n",
    "print(tup[2])\n",
    "\n",
    "\n",
    "for i in tup:\n",
    "    print(i)\n",
    "    \n",
    "\n",
    "a = 1  in tup\n",
    "\n",
    "print(a)"
   ]
  },
  {
   "cell_type": "code",
   "execution_count": 13,
   "metadata": {
    "collapsed": false
   },
   "outputs": [
    {
     "ename": "AttributeError",
     "evalue": "'tuple' object has no attribute 'append'",
     "output_type": "error",
     "traceback": [
      "\u001b[0;31m---------------------------------------------------------------------------\u001b[0m",
      "\u001b[0;31mAttributeError\u001b[0m                            Traceback (most recent call last)",
      "\u001b[0;32m<ipython-input-13-0ee8d39cb05c>\u001b[0m in \u001b[0;36m<module>\u001b[0;34m()\u001b[0m\n\u001b[0;32m----> 1\u001b[0;31m \u001b[0mtup\u001b[0m\u001b[0;34m.\u001b[0m\u001b[0mappend\u001b[0m\u001b[0;34m(\u001b[0m\u001b[0;36m4\u001b[0m\u001b[0;34m)\u001b[0m\u001b[0;34m\u001b[0m\u001b[0m\n\u001b[0m",
      "\u001b[0;31mAttributeError\u001b[0m: 'tuple' object has no attribute 'append'"
     ]
    }
   ],
   "source": [
    "tup.append(4)"
   ]
  },
  {
   "cell_type": "code",
   "execution_count": 16,
   "metadata": {
    "collapsed": false
   },
   "outputs": [
    {
     "name": "stdout",
     "output_type": "stream",
     "text": [
      "{1, 2, 3, 4, 5}\n",
      "{1, 2, 3, 4, 5}\n",
      "{1, 2, 3, 4, 5, 7}\n"
     ]
    }
   ],
   "source": [
    "# SETS\n",
    "\n",
    "my_set =  {1,2,3,4,5}\n",
    "print(my_set)\n",
    "\n",
    "\n",
    "my_set_2 = {1,1,2,2,3,4,5,5,6,7,8}\n",
    "print(my_set)\n",
    "\n",
    "\n",
    "l = [1,3,5,7,2,4,2,3,3,4]\n",
    "new_set = set(l)\n",
    "print(new_set)"
   ]
  },
  {
   "cell_type": "code",
   "execution_count": 0,
   "metadata": {
    "collapsed": false
   },
   "outputs": [
   ],
   "source": [
   ]
  }
 ],
 "metadata": {
  "kernelspec": {
   "display_name": "Python 3 (Ubuntu Linux)",
   "language": "python",
   "name": "python3"
  },
  "language_info": {
   "codemirror_mode": {
    "name": "ipython",
    "version": 3
   },
   "file_extension": ".py",
   "mimetype": "text/x-python",
   "name": "python",
   "nbconvert_exporter": "python",
   "pygments_lexer": "ipython3",
   "version": "3.5.2"
  }
 },
 "nbformat": 4,
 "nbformat_minor": 0
}