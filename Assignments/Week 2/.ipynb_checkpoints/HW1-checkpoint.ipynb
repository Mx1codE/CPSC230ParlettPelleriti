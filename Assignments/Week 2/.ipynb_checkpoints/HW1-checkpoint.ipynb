{
 "cells": [
  {
   "cell_type": "markdown",
   "metadata": {},
   "source": [
    "# Assignment 1\n",
    "Let’s get you writing more code to drive home the basics of the language before we start to\n",
    "get “creative” with our development goals. Make sure to adhere to style and include\n",
    "meaningful comments. Your assignment is to implement the following programs:\n",
    "1. The first program is Total Price. The program should find the\n",
    "total price of an item given the price and sales tax. The program should prompt the\n",
    "user for the purchase price of an item and the sales tax rate, it should display the\n",
    "total price of the item.\n",
    "2. The second program is Celsius. The program should prompt\n",
    "the user for the temperature in Celsius. It should then convert this temperature into\n",
    "Fahrenheit and display the temperature in Fahrenheit.\n",
    "3. The thirds program is Quadratic. The program should\n",
    "prompt the user for the coefficients a, b, c of a quadratic function. The program\n",
    "should then calculate and display the roots of the function using the quadratic\n",
    "formula. (Hint: Use the math module to calculate a square root). For now, only use\n",
    "values that will return a positive discriminate, test a = -1, b = 2, c = 3."
   ]
  },
  {
   "cell_type": "code",
   "execution_count": 1,
   "metadata": {},
   "outputs": [
    {
     "name": "stdout",
     "output_type": "stream",
     "text": [
      "hello\n"
     ]
    }
   ],
   "source": [
    "#TOTAL PRICE\n",
    "\n",
    "#your code here-------------------------------\n",
    "\n",
    "\n",
    "#---------------------------------------------"
   ]
  },
  {
   "cell_type": "code",
   "execution_count": 0,
   "metadata": {},
   "outputs": [],
   "source": [
    "#CELSIUS\n",
    "\n",
    "#your code here-------------------------------\n",
    "\n",
    "\n",
    "\n",
    "#---------------------------------------------"
   ]
  },
  {
   "cell_type": "code",
   "execution_count": 0,
   "metadata": {},
   "outputs": [],
   "source": [
    "#QUADRATIC\n",
    "\n",
    "#your code here-------------------------------\n",
    "\n",
    "\n",
    "\n",
    "#---------------------------------------------"
   ]
  }
 ],
 "metadata": {
  "kernelspec": {
   "display_name": "Python 3",
   "language": "python",
   "name": "python3"
  },
  "language_info": {
   "codemirror_mode": {
    "name": "ipython",
    "version": 3
   },
   "file_extension": ".py",
   "mimetype": "text/x-python",
   "name": "python",
   "nbconvert_exporter": "python",
   "pygments_lexer": "ipython3",
   "version": "3.6.4"
  }
 },
 "nbformat": 4,
 "nbformat_minor": 1
}
