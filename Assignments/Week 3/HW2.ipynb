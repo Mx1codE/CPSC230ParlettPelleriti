{
 "cells": [
  {
   "cell_type": "markdown",
   "metadata": {
    "collapsed": false
   },
   "source": [
    "# Instructions\n",
    "\n",
    "\n",
    "\n",
    "------------------\n",
    "### Part I\n",
    "\n",
    "*Now that we are all familiar with if/else statements, your next assignment will consist of incorporating error checking into your TotalPrice.py and Quadratic.py modules.*\n",
    "<br>\n",
    "<br>\n",
    "**Copy the code from your TotalPrice and Quadratic problems from the previous assignment and modify** \n",
    "\n",
    "**TotalPrice**: Add if statements to check that the sale price and sales tax are valid values, that is, not negative. If they are, prompt the user of their mistake. Your program should only calculate and display the total price if the total is positive, otherwise, it should tell the user the calculations could not be made.\n",
    "\n",
    "**Quadratic**: Add an if statement to check if the value of the discriminate is negative. If the discriminate is negative prompt the user. Also, your program should not continue with the square root calculation, hence avoiding the \"math domain error\".\n",
    "\n",
    "\n",
    "\n",
    "------------------\n",
    "### Part II\n",
    "*Now that we are all familiar with the while loop, you will add a while loop to your\n",
    "Quadratic modules, as well as, create a new Sumprogram.*\n",
    "<br>\n",
    "<br>\n",
    "**Copy the code from your Quadratic problem from Part I and modify ** \n",
    "\n",
    "**Quadratic2**: Add a while loop to keep prompting the user until the discriminate (everything under the  square root) is positive. Once the discriminate is positive, print the roots\n",
    "\n",
    "**Sum**: Write a python program that prompts the user for the how many numbers he/she would like to sum and then asks the user for each number and displays the\n",
    "sum.\n",
    "\n",
    "------------------\n",
    "### Part III\n",
    "\n",
    "**Sum of consecutive integers (SumConsec)**:\n",
    "a. Write a program that prompts for an integer—let’s call it X—and then finds the sum of X consecutive integers starting at 1. That is, if X = 5, you will find the sum of 1 + 2 + 3 + 4 + 5 = 15."
   ]
  },
  {
   "cell_type": "code",
   "execution_count": 0,
   "metadata": {
    "collapsed": false
   },
   "outputs": [
   ],
   "source": [
    "# TOTALPRICE\n",
    "#--------------------------------------------------------------------------------\n",
    "# your code here\n",
    "\n",
    "\n",
    "#--------------------------------------------------------------------------------"
   ]
  },
  {
   "cell_type": "code",
   "execution_count": 0,
   "metadata": {
    "collapsed": false
   },
   "outputs": [
   ],
   "source": [
    "# QUADRATIC\n",
    "#--------------------------------------------------------------------------------\n",
    "# your code here\n",
    "\n",
    "\n",
    "#--------------------------------------------------------------------------------"
   ]
  },
  {
   "cell_type": "code",
   "execution_count": 0,
   "metadata": {
    "collapsed": false
   },
   "outputs": [
   ],
   "source": [
    "# QUADRATIC2\n",
    "#--------------------------------------------------------------------------------\n",
    "# your code here\n",
    "\n",
    "\n",
    "#--------------------------------------------------------------------------------"
   ]
  },
  {
   "cell_type": "code",
   "execution_count": 0,
   "metadata": {
    "collapsed": false
   },
   "outputs": [
   ],
   "source": [
    "# SUM\n",
    "#--------------------------------------------------------------------------------\n",
    "# your code here\n",
    "\n",
    "\n",
    "#--------------------------------------------------------------------------------"
   ]
  },
  {
   "cell_type": "code",
   "execution_count": 0,
   "metadata": {
    "collapsed": false
   },
   "outputs": [
   ],
   "source": [
    "# SUMCONSEC\n",
    "#--------------------------------------------------------------------------------\n",
    "# your code here\n",
    "\n",
    "\n",
    "#--------------------------------------------------------------------------------"
   ]
  }
 ],
 "metadata": {
  "kernelspec": {
   "display_name": "Python 3 (Ubuntu Linux)",
   "language": "python",
   "name": "python3"
  },
  "language_info": {
   "codemirror_mode": {
    "name": "ipython",
    "version": 3
   },
   "file_extension": ".py",
   "mimetype": "text/x-python",
   "name": "python",
   "nbconvert_exporter": "python",
   "pygments_lexer": "ipython3",
   "version": "3.5.2"
  }
 },
 "nbformat": 4,
 "nbformat_minor": 0
}